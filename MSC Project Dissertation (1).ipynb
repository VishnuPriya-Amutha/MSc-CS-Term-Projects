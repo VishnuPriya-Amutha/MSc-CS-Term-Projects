{
 "cells": [
  {
   "cell_type": "code",
   "execution_count": 2,
   "id": "130785ab-ec30-4f7b-9ab1-2d99fde6cfdc",
   "metadata": {
    "collapsed": true,
    "jupyter": {
     "outputs_hidden": true
    },
    "tags": []
   },
   "outputs": [
    {
     "name": "stdout",
     "output_type": "stream",
     "text": [
      "Requirement already satisfied: pmdarima in c:\\users\\hp\\anaconda3\\lib\\site-packages (2.0.1)\n",
      "Requirement already satisfied: numpy>=1.21 in c:\\users\\hp\\anaconda3\\lib\\site-packages (from pmdarima) (1.22.4)\n",
      "Requirement already satisfied: pandas>=0.19 in c:\\users\\hp\\anaconda3\\lib\\site-packages (from pmdarima) (1.5.2)\n",
      "Requirement already satisfied: setuptools!=50.0.0,>=38.6.0 in c:\\users\\hp\\anaconda3\\lib\\site-packages (from pmdarima) (58.0.4)\n",
      "Requirement already satisfied: joblib>=0.11 in c:\\users\\hp\\anaconda3\\lib\\site-packages (from pmdarima) (1.1.0)\n",
      "Requirement already satisfied: scikit-learn>=0.22 in c:\\users\\hp\\anaconda3\\lib\\site-packages (from pmdarima) (1.1.3)\n",
      "Requirement already satisfied: urllib3 in c:\\users\\hp\\anaconda3\\lib\\site-packages (from pmdarima) (1.26.7)\n",
      "Requirement already satisfied: statsmodels>=0.13.2 in c:\\users\\hp\\anaconda3\\lib\\site-packages (from pmdarima) (0.13.5)\n",
      "Requirement already satisfied: Cython!=0.29.18,!=0.29.31,>=0.29 in c:\\users\\hp\\anaconda3\\lib\\site-packages (from pmdarima) (0.29.24)\n",
      "Requirement already satisfied: scipy>=1.3.2 in c:\\users\\hp\\anaconda3\\lib\\site-packages (from pmdarima) (1.9.3)\n",
      "Requirement already satisfied: pytz>=2020.1 in c:\\users\\hp\\anaconda3\\lib\\site-packages (from pandas>=0.19->pmdarima) (2021.3)\n",
      "Requirement already satisfied: python-dateutil>=2.8.1 in c:\\users\\hp\\anaconda3\\lib\\site-packages (from pandas>=0.19->pmdarima) (2.8.2)\n",
      "Requirement already satisfied: six>=1.5 in c:\\users\\hp\\anaconda3\\lib\\site-packages (from python-dateutil>=2.8.1->pandas>=0.19->pmdarima) (1.16.0)\n",
      "Requirement already satisfied: threadpoolctl>=2.0.0 in c:\\users\\hp\\anaconda3\\lib\\site-packages (from scikit-learn>=0.22->pmdarima) (2.2.0)\n",
      "Requirement already satisfied: patsy>=0.5.2 in c:\\users\\hp\\anaconda3\\lib\\site-packages (from statsmodels>=0.13.2->pmdarima) (0.5.2)\n",
      "Requirement already satisfied: packaging>=21.3 in c:\\users\\hp\\anaconda3\\lib\\site-packages (from statsmodels>=0.13.2->pmdarima) (21.3)\n",
      "Requirement already satisfied: pyparsing!=3.0.5,>=2.0.2 in c:\\users\\hp\\anaconda3\\lib\\site-packages (from packaging>=21.3->statsmodels>=0.13.2->pmdarima) (3.0.4)\n"
     ]
    }
   ],
   "source": [
    "!pip install pmdarima"
   ]
  },
  {
   "cell_type": "code",
   "execution_count": 2,
   "id": "8fbb3ad6-84c4-4f47-9b54-5772b1a3972e",
   "metadata": {
    "tags": []
   },
   "outputs": [],
   "source": [
    "import os\n",
    "import sys\n",
    "import findspark\n",
    "findspark.init()"
   ]
  },
  {
   "cell_type": "code",
   "execution_count": 3,
   "id": "8e9106f8-6cb4-44e4-9df9-468d9e8893a5",
   "metadata": {},
   "outputs": [],
   "source": [
    "import pandas as pd\n",
    "import numpy as np\n",
    "import pmdarima as pm\n",
    "import seaborn as sn\n",
    "import statsmodels.api as sm\n",
    "import matplotlib.pyplot as plt\n",
    "from numpy import array\n",
    "from datetime import datetime\n",
    "from pandas.plotting import autocorrelation_plot\n",
    "from statsmodels.graphics.tsaplots import plot_acf\n",
    "from statsmodels.graphics.tsaplots import plot_pacf\n",
    "from statsmodels.api import tsa\n",
    "from sklearn.linear_model import LinearRegression\n",
    "from sklearn.metrics import mean_absolute_error, mean_squared_error\n",
    "from sklearn.model_selection import train_test_split\n",
    "from sklearn import metrics\n",
    "from statsmodels.tsa.stattools import adfuller\n",
    "from numpy import log\n",
    "from statsmodels.graphics.tsaplots import plot_predict\n",
    "%matplotlib inline\n",
    "from dateutil.parser import parse "
   ]
  },
  {
   "cell_type": "code",
   "execution_count": 4,
   "id": "36063a0c-d3b2-49b5-aeef-ea8ec889d6d8",
   "metadata": {
    "collapsed": true,
    "jupyter": {
     "outputs_hidden": true
    },
    "tags": []
   },
   "outputs": [
    {
     "name": "stdout",
     "output_type": "stream",
     "text": [
      "InvoiceDate        False\n",
      "InvoiceNumber      False\n",
      "DistributorCode    False\n",
      "Distributor        False\n",
      "SalesRep           False\n",
      "CustomerCode       False\n",
      "Customer           False\n",
      "CustomerGroup      False\n",
      "DirectSale         False\n",
      "LineType           False\n",
      "ProductCode        False\n",
      "Product            False\n",
      "ProductCategory    False\n",
      "Agency             False\n",
      "Conv               False\n",
      "UnitQty            False\n",
      "BulkQty            False\n",
      "FreeQty            False\n",
      "FreeBulkQty        False\n",
      "UnitPrice          False\n",
      "GrossValue         False\n",
      "LineDiscount       False\n",
      "DocDiscPart        False\n",
      "NetAmount          False\n",
      "CustomerTown       False\n",
      "DistributorArea    False\n",
      "District           False\n",
      "dtype: bool\n"
     ]
    }
   ],
   "source": [
    "#Reading the dataset using pandas dataframe\n",
    "SalesData=pd.read_excel(\"D:\\MSC COMPUTER SCIENCE\\Final Dissertation\\PROJECT DATASET\\Sales_Data 1.xlsx\")\n",
    "#saving the xlsx file to csv file\n",
    "SalesData.to_csv(r'D:\\MSC COMPUTER SCIENCE\\Final Dissertation\\PROJECT DATASET\\SalesData.csv', index = None, header=True)\n",
    "#checking for null values in rows and columns and displaying\n",
    "print(SalesData.isnull().all())"
   ]
  },
  {
   "cell_type": "code",
   "execution_count": 5,
   "id": "f40779d3-5430-4587-8110-4c8288e93bd2",
   "metadata": {
    "collapsed": true,
    "jupyter": {
     "outputs_hidden": true
    },
    "tags": []
   },
   "outputs": [
    {
     "data": {
      "text/html": [
       "<div>\n",
       "<style scoped>\n",
       "    .dataframe tbody tr th:only-of-type {\n",
       "        vertical-align: middle;\n",
       "    }\n",
       "\n",
       "    .dataframe tbody tr th {\n",
       "        vertical-align: top;\n",
       "    }\n",
       "\n",
       "    .dataframe thead th {\n",
       "        text-align: right;\n",
       "    }\n",
       "</style>\n",
       "<table border=\"1\" class=\"dataframe\">\n",
       "  <thead>\n",
       "    <tr style=\"text-align: right;\">\n",
       "      <th></th>\n",
       "      <th>InvoiceDate</th>\n",
       "      <th>Distributor</th>\n",
       "      <th>Customer</th>\n",
       "      <th>CustomerGroup</th>\n",
       "      <th>DirectSale</th>\n",
       "      <th>LineType</th>\n",
       "      <th>ProductCode</th>\n",
       "      <th>Product</th>\n",
       "      <th>ProductCategory</th>\n",
       "      <th>Agency</th>\n",
       "      <th>...</th>\n",
       "      <th>FreeQty</th>\n",
       "      <th>FreeBulkQty</th>\n",
       "      <th>UnitPrice</th>\n",
       "      <th>GrossValue</th>\n",
       "      <th>LineDiscount</th>\n",
       "      <th>DocDiscPart</th>\n",
       "      <th>NetAmount</th>\n",
       "      <th>CustomerTown</th>\n",
       "      <th>DistributorArea</th>\n",
       "      <th>District</th>\n",
       "    </tr>\n",
       "  </thead>\n",
       "  <tbody>\n",
       "    <tr>\n",
       "      <th>0</th>\n",
       "      <td>1/1/2022 9:40:07 AM</td>\n",
       "      <td>Peumi Pharmaceuticals</td>\n",
       "      <td>Premier Pharmacy</td>\n",
       "      <td>Pharmacies</td>\n",
       "      <td>No</td>\n",
       "      <td>Order</td>\n",
       "      <td>606365</td>\n",
       "      <td>Diabetasol Sweetener, sachets 50s</td>\n",
       "      <td>Pharmaceuticals</td>\n",
       "      <td>Kalbe Nutritionals</td>\n",
       "      <td>...</td>\n",
       "      <td>0</td>\n",
       "      <td>0</td>\n",
       "      <td>285.22</td>\n",
       "      <td>570.44</td>\n",
       "      <td>0.0</td>\n",
       "      <td>0</td>\n",
       "      <td>570.44</td>\n",
       "      <td>Moratuwa</td>\n",
       "      <td>Colombo - A</td>\n",
       "      <td>Colombo - A</td>\n",
       "    </tr>\n",
       "    <tr>\n",
       "      <th>1</th>\n",
       "      <td>1/1/2022 10:10:10 AM</td>\n",
       "      <td>Binelco Marketing(Pvt)Ltd</td>\n",
       "      <td>Channel 25</td>\n",
       "      <td>Pharmacies</td>\n",
       "      <td>No</td>\n",
       "      <td>Order</td>\n",
       "      <td>600720</td>\n",
       "      <td>Dometic 10Mg Tabs  , 5 X 10'S</td>\n",
       "      <td>Pharmaceuticals</td>\n",
       "      <td>Kalbe Pharma</td>\n",
       "      <td>...</td>\n",
       "      <td>0</td>\n",
       "      <td>0</td>\n",
       "      <td>306.96</td>\n",
       "      <td>3069.60</td>\n",
       "      <td>0.0</td>\n",
       "      <td>0</td>\n",
       "      <td>3069.60</td>\n",
       "      <td>Matara</td>\n",
       "      <td>Matara</td>\n",
       "      <td>Matara</td>\n",
       "    </tr>\n",
       "    <tr>\n",
       "      <th>2</th>\n",
       "      <td>1/1/2022 10:10:10 AM</td>\n",
       "      <td>Binelco Marketing(Pvt)Ltd</td>\n",
       "      <td>Channel 25</td>\n",
       "      <td>Pharmacies</td>\n",
       "      <td>No</td>\n",
       "      <td>Free</td>\n",
       "      <td>600720</td>\n",
       "      <td>Dometic 10Mg Tabs  , 5 X 10'S</td>\n",
       "      <td>Pharmaceuticals</td>\n",
       "      <td>Kalbe Pharma</td>\n",
       "      <td>...</td>\n",
       "      <td>0</td>\n",
       "      <td>1</td>\n",
       "      <td>306.96</td>\n",
       "      <td>0.00</td>\n",
       "      <td>0.0</td>\n",
       "      <td>0</td>\n",
       "      <td>0.00</td>\n",
       "      <td>Matara</td>\n",
       "      <td>Matara</td>\n",
       "      <td>Matara</td>\n",
       "    </tr>\n",
       "    <tr>\n",
       "      <th>3</th>\n",
       "      <td>1/1/2022 10:10:10 AM</td>\n",
       "      <td>Binelco Marketing(Pvt)Ltd</td>\n",
       "      <td>Channel 25</td>\n",
       "      <td>Pharmacies</td>\n",
       "      <td>No</td>\n",
       "      <td>Order</td>\n",
       "      <td>600706</td>\n",
       "      <td>Clavamox 500 Tabs 625Mg 3 X 10'S</td>\n",
       "      <td>Pharmaceuticals</td>\n",
       "      <td>Kalbe Pharma</td>\n",
       "      <td>...</td>\n",
       "      <td>0</td>\n",
       "      <td>0</td>\n",
       "      <td>2049.13</td>\n",
       "      <td>2049.13</td>\n",
       "      <td>0.0</td>\n",
       "      <td>0</td>\n",
       "      <td>2049.13</td>\n",
       "      <td>Matara</td>\n",
       "      <td>Matara</td>\n",
       "      <td>Matara</td>\n",
       "    </tr>\n",
       "    <tr>\n",
       "      <th>4</th>\n",
       "      <td>1/1/2022 10:44:06 AM</td>\n",
       "      <td>Sri Lanka Pharmacy</td>\n",
       "      <td>D.D.R.Pharmacy</td>\n",
       "      <td>Pharmacies</td>\n",
       "      <td>No</td>\n",
       "      <td>Order</td>\n",
       "      <td>600726</td>\n",
       "      <td>Xon Ce Tabs 500Mg 50X2'S</td>\n",
       "      <td>OTC</td>\n",
       "      <td>Kalbe Pharma</td>\n",
       "      <td>...</td>\n",
       "      <td>0</td>\n",
       "      <td>0</td>\n",
       "      <td>1304.50</td>\n",
       "      <td>3913.50</td>\n",
       "      <td>0.0</td>\n",
       "      <td>0</td>\n",
       "      <td>3913.50</td>\n",
       "      <td>Kandy</td>\n",
       "      <td>Kandy</td>\n",
       "      <td>Kandy</td>\n",
       "    </tr>\n",
       "  </tbody>\n",
       "</table>\n",
       "<p>5 rows × 23 columns</p>\n",
       "</div>"
      ],
      "text/plain": [
       "            InvoiceDate                Distributor          Customer  \\\n",
       "0   1/1/2022 9:40:07 AM      Peumi Pharmaceuticals  Premier Pharmacy   \n",
       "1  1/1/2022 10:10:10 AM  Binelco Marketing(Pvt)Ltd        Channel 25   \n",
       "2  1/1/2022 10:10:10 AM  Binelco Marketing(Pvt)Ltd        Channel 25   \n",
       "3  1/1/2022 10:10:10 AM  Binelco Marketing(Pvt)Ltd        Channel 25   \n",
       "4  1/1/2022 10:44:06 AM         Sri Lanka Pharmacy    D.D.R.Pharmacy   \n",
       "\n",
       "  CustomerGroup DirectSale LineType  ProductCode  \\\n",
       "0    Pharmacies         No    Order       606365   \n",
       "1    Pharmacies         No    Order       600720   \n",
       "2    Pharmacies         No     Free       600720   \n",
       "3    Pharmacies         No    Order       600706   \n",
       "4    Pharmacies         No    Order       600726   \n",
       "\n",
       "                             Product  ProductCategory              Agency  \\\n",
       "0  Diabetasol Sweetener, sachets 50s  Pharmaceuticals  Kalbe Nutritionals   \n",
       "1      Dometic 10Mg Tabs  , 5 X 10'S  Pharmaceuticals        Kalbe Pharma   \n",
       "2      Dometic 10Mg Tabs  , 5 X 10'S  Pharmaceuticals        Kalbe Pharma   \n",
       "3   Clavamox 500 Tabs 625Mg 3 X 10'S  Pharmaceuticals        Kalbe Pharma   \n",
       "4           Xon Ce Tabs 500Mg 50X2'S              OTC        Kalbe Pharma   \n",
       "\n",
       "   ...  FreeQty  FreeBulkQty  UnitPrice  GrossValue  LineDiscount  \\\n",
       "0  ...        0            0     285.22      570.44           0.0   \n",
       "1  ...        0            0     306.96     3069.60           0.0   \n",
       "2  ...        0            1     306.96        0.00           0.0   \n",
       "3  ...        0            0    2049.13     2049.13           0.0   \n",
       "4  ...        0            0    1304.50     3913.50           0.0   \n",
       "\n",
       "   DocDiscPart  NetAmount  CustomerTown  DistributorArea     District  \n",
       "0            0     570.44      Moratuwa      Colombo - A  Colombo - A  \n",
       "1            0    3069.60        Matara           Matara       Matara  \n",
       "2            0       0.00        Matara           Matara       Matara  \n",
       "3            0    2049.13        Matara           Matara       Matara  \n",
       "4            0    3913.50         Kandy            Kandy        Kandy  \n",
       "\n",
       "[5 rows x 23 columns]"
      ]
     },
     "execution_count": 5,
     "metadata": {},
     "output_type": "execute_result"
    }
   ],
   "source": [
    "#dropping attributes that are not releavant\n",
    "SalesData=SalesData.drop(columns=[\"InvoiceNumber\", \"SalesRep\", \"CustomerCode\", \"DistributorCode\"])\n",
    "#grouping columns\n",
    "SalesData.groupby(['Agency', 'Product', 'Customer','Distributor'])\n",
    "#saving it to csv file with new name\n",
    "SalesData.to_csv(\"D:\\MSC COMPUTER SCIENCE\\Final Dissertation\\PROJECT DATASET\\SalesData.xlsx\")\n",
    "#displaying first 20 rows\n",
    "SalesData.head(5)"
   ]
  },
  {
   "cell_type": "code",
   "execution_count": 6,
   "id": "7419d507-bc80-4160-9d68-e386df84e7f5",
   "metadata": {
    "tags": []
   },
   "outputs": [
    {
     "data": {
      "text/plain": [
       "134068"
      ]
     },
     "execution_count": 6,
     "metadata": {},
     "output_type": "execute_result"
    }
   ],
   "source": [
    "len(SalesData)"
   ]
  },
  {
   "cell_type": "code",
   "execution_count": 7,
   "id": "fa13f2de-b82d-4775-8eaf-067fa664a78c",
   "metadata": {
    "collapsed": true,
    "jupyter": {
     "outputs_hidden": true
    },
    "tags": []
   },
   "outputs": [
    {
     "data": {
      "text/html": [
       "<div>\n",
       "<style scoped>\n",
       "    .dataframe tbody tr th:only-of-type {\n",
       "        vertical-align: middle;\n",
       "    }\n",
       "\n",
       "    .dataframe tbody tr th {\n",
       "        vertical-align: top;\n",
       "    }\n",
       "\n",
       "    .dataframe thead th {\n",
       "        text-align: right;\n",
       "    }\n",
       "</style>\n",
       "<table border=\"1\" class=\"dataframe\">\n",
       "  <thead>\n",
       "    <tr style=\"text-align: right;\">\n",
       "      <th></th>\n",
       "      <th>InvoiceDate</th>\n",
       "      <th>Distributor</th>\n",
       "      <th>Customer</th>\n",
       "      <th>CustomerGroup</th>\n",
       "      <th>DirectSale</th>\n",
       "      <th>LineType</th>\n",
       "      <th>ProductCode</th>\n",
       "      <th>Product</th>\n",
       "      <th>ProductCategory</th>\n",
       "      <th>Agency</th>\n",
       "      <th>...</th>\n",
       "      <th>LineDiscount</th>\n",
       "      <th>DocDiscPart</th>\n",
       "      <th>NetAmount</th>\n",
       "      <th>CustomerTown</th>\n",
       "      <th>DistributorArea</th>\n",
       "      <th>District</th>\n",
       "      <th>Year</th>\n",
       "      <th>Month</th>\n",
       "      <th>Day</th>\n",
       "      <th>Time</th>\n",
       "    </tr>\n",
       "    <tr>\n",
       "      <th>InvoiceDate</th>\n",
       "      <th></th>\n",
       "      <th></th>\n",
       "      <th></th>\n",
       "      <th></th>\n",
       "      <th></th>\n",
       "      <th></th>\n",
       "      <th></th>\n",
       "      <th></th>\n",
       "      <th></th>\n",
       "      <th></th>\n",
       "      <th></th>\n",
       "      <th></th>\n",
       "      <th></th>\n",
       "      <th></th>\n",
       "      <th></th>\n",
       "      <th></th>\n",
       "      <th></th>\n",
       "      <th></th>\n",
       "      <th></th>\n",
       "      <th></th>\n",
       "      <th></th>\n",
       "    </tr>\n",
       "  </thead>\n",
       "  <tbody>\n",
       "    <tr>\n",
       "      <th>2022-01-01 09:40:07</th>\n",
       "      <td>1/1/2022 9:40:07 AM</td>\n",
       "      <td>Peumi Pharmaceuticals</td>\n",
       "      <td>Premier Pharmacy</td>\n",
       "      <td>Pharmacies</td>\n",
       "      <td>No</td>\n",
       "      <td>Order</td>\n",
       "      <td>606365</td>\n",
       "      <td>Diabetasol Sweetener, sachets 50s</td>\n",
       "      <td>Pharmaceuticals</td>\n",
       "      <td>Kalbe Nutritionals</td>\n",
       "      <td>...</td>\n",
       "      <td>0.0</td>\n",
       "      <td>0</td>\n",
       "      <td>570.44</td>\n",
       "      <td>Moratuwa</td>\n",
       "      <td>Colombo - A</td>\n",
       "      <td>Colombo - A</td>\n",
       "      <td>2022</td>\n",
       "      <td>1</td>\n",
       "      <td>1</td>\n",
       "      <td>09:40:07</td>\n",
       "    </tr>\n",
       "    <tr>\n",
       "      <th>2022-01-01 10:10:10</th>\n",
       "      <td>1/1/2022 10:10:10 AM</td>\n",
       "      <td>Binelco Marketing(Pvt)Ltd</td>\n",
       "      <td>Channel 25</td>\n",
       "      <td>Pharmacies</td>\n",
       "      <td>No</td>\n",
       "      <td>Order</td>\n",
       "      <td>600720</td>\n",
       "      <td>Dometic 10Mg Tabs  , 5 X 10'S</td>\n",
       "      <td>Pharmaceuticals</td>\n",
       "      <td>Kalbe Pharma</td>\n",
       "      <td>...</td>\n",
       "      <td>0.0</td>\n",
       "      <td>0</td>\n",
       "      <td>3069.60</td>\n",
       "      <td>Matara</td>\n",
       "      <td>Matara</td>\n",
       "      <td>Matara</td>\n",
       "      <td>2022</td>\n",
       "      <td>1</td>\n",
       "      <td>1</td>\n",
       "      <td>10:10:10</td>\n",
       "    </tr>\n",
       "    <tr>\n",
       "      <th>2022-01-01 10:10:10</th>\n",
       "      <td>1/1/2022 10:10:10 AM</td>\n",
       "      <td>Binelco Marketing(Pvt)Ltd</td>\n",
       "      <td>Channel 25</td>\n",
       "      <td>Pharmacies</td>\n",
       "      <td>No</td>\n",
       "      <td>Free</td>\n",
       "      <td>600720</td>\n",
       "      <td>Dometic 10Mg Tabs  , 5 X 10'S</td>\n",
       "      <td>Pharmaceuticals</td>\n",
       "      <td>Kalbe Pharma</td>\n",
       "      <td>...</td>\n",
       "      <td>0.0</td>\n",
       "      <td>0</td>\n",
       "      <td>0.00</td>\n",
       "      <td>Matara</td>\n",
       "      <td>Matara</td>\n",
       "      <td>Matara</td>\n",
       "      <td>2022</td>\n",
       "      <td>1</td>\n",
       "      <td>1</td>\n",
       "      <td>10:10:10</td>\n",
       "    </tr>\n",
       "    <tr>\n",
       "      <th>2022-01-01 10:10:10</th>\n",
       "      <td>1/1/2022 10:10:10 AM</td>\n",
       "      <td>Binelco Marketing(Pvt)Ltd</td>\n",
       "      <td>Channel 25</td>\n",
       "      <td>Pharmacies</td>\n",
       "      <td>No</td>\n",
       "      <td>Order</td>\n",
       "      <td>600706</td>\n",
       "      <td>Clavamox 500 Tabs 625Mg 3 X 10'S</td>\n",
       "      <td>Pharmaceuticals</td>\n",
       "      <td>Kalbe Pharma</td>\n",
       "      <td>...</td>\n",
       "      <td>0.0</td>\n",
       "      <td>0</td>\n",
       "      <td>2049.13</td>\n",
       "      <td>Matara</td>\n",
       "      <td>Matara</td>\n",
       "      <td>Matara</td>\n",
       "      <td>2022</td>\n",
       "      <td>1</td>\n",
       "      <td>1</td>\n",
       "      <td>10:10:10</td>\n",
       "    </tr>\n",
       "    <tr>\n",
       "      <th>2022-01-01 10:44:06</th>\n",
       "      <td>1/1/2022 10:44:06 AM</td>\n",
       "      <td>Sri Lanka Pharmacy</td>\n",
       "      <td>D.D.R.Pharmacy</td>\n",
       "      <td>Pharmacies</td>\n",
       "      <td>No</td>\n",
       "      <td>Order</td>\n",
       "      <td>600726</td>\n",
       "      <td>Xon Ce Tabs 500Mg 50X2'S</td>\n",
       "      <td>OTC</td>\n",
       "      <td>Kalbe Pharma</td>\n",
       "      <td>...</td>\n",
       "      <td>0.0</td>\n",
       "      <td>0</td>\n",
       "      <td>3913.50</td>\n",
       "      <td>Kandy</td>\n",
       "      <td>Kandy</td>\n",
       "      <td>Kandy</td>\n",
       "      <td>2022</td>\n",
       "      <td>1</td>\n",
       "      <td>1</td>\n",
       "      <td>10:44:06</td>\n",
       "    </tr>\n",
       "  </tbody>\n",
       "</table>\n",
       "<p>5 rows × 27 columns</p>\n",
       "</div>"
      ],
      "text/plain": [
       "                              InvoiceDate                Distributor  \\\n",
       "InvoiceDate                                                            \n",
       "2022-01-01 09:40:07   1/1/2022 9:40:07 AM      Peumi Pharmaceuticals   \n",
       "2022-01-01 10:10:10  1/1/2022 10:10:10 AM  Binelco Marketing(Pvt)Ltd   \n",
       "2022-01-01 10:10:10  1/1/2022 10:10:10 AM  Binelco Marketing(Pvt)Ltd   \n",
       "2022-01-01 10:10:10  1/1/2022 10:10:10 AM  Binelco Marketing(Pvt)Ltd   \n",
       "2022-01-01 10:44:06  1/1/2022 10:44:06 AM         Sri Lanka Pharmacy   \n",
       "\n",
       "                             Customer CustomerGroup DirectSale LineType  \\\n",
       "InvoiceDate                                                               \n",
       "2022-01-01 09:40:07  Premier Pharmacy    Pharmacies         No    Order   \n",
       "2022-01-01 10:10:10        Channel 25    Pharmacies         No    Order   \n",
       "2022-01-01 10:10:10        Channel 25    Pharmacies         No     Free   \n",
       "2022-01-01 10:10:10        Channel 25    Pharmacies         No    Order   \n",
       "2022-01-01 10:44:06    D.D.R.Pharmacy    Pharmacies         No    Order   \n",
       "\n",
       "                     ProductCode                            Product  \\\n",
       "InvoiceDate                                                           \n",
       "2022-01-01 09:40:07       606365  Diabetasol Sweetener, sachets 50s   \n",
       "2022-01-01 10:10:10       600720      Dometic 10Mg Tabs  , 5 X 10'S   \n",
       "2022-01-01 10:10:10       600720      Dometic 10Mg Tabs  , 5 X 10'S   \n",
       "2022-01-01 10:10:10       600706   Clavamox 500 Tabs 625Mg 3 X 10'S   \n",
       "2022-01-01 10:44:06       600726           Xon Ce Tabs 500Mg 50X2'S   \n",
       "\n",
       "                     ProductCategory              Agency  ...  LineDiscount  \\\n",
       "InvoiceDate                                               ...                 \n",
       "2022-01-01 09:40:07  Pharmaceuticals  Kalbe Nutritionals  ...           0.0   \n",
       "2022-01-01 10:10:10  Pharmaceuticals        Kalbe Pharma  ...           0.0   \n",
       "2022-01-01 10:10:10  Pharmaceuticals        Kalbe Pharma  ...           0.0   \n",
       "2022-01-01 10:10:10  Pharmaceuticals        Kalbe Pharma  ...           0.0   \n",
       "2022-01-01 10:44:06              OTC        Kalbe Pharma  ...           0.0   \n",
       "\n",
       "                     DocDiscPart  NetAmount  CustomerTown  DistributorArea  \\\n",
       "InvoiceDate                                                                  \n",
       "2022-01-01 09:40:07            0     570.44      Moratuwa      Colombo - A   \n",
       "2022-01-01 10:10:10            0    3069.60        Matara           Matara   \n",
       "2022-01-01 10:10:10            0       0.00        Matara           Matara   \n",
       "2022-01-01 10:10:10            0    2049.13        Matara           Matara   \n",
       "2022-01-01 10:44:06            0    3913.50         Kandy            Kandy   \n",
       "\n",
       "                        District  Year  Month  Day      Time  \n",
       "InvoiceDate                                                   \n",
       "2022-01-01 09:40:07  Colombo - A  2022      1    1  09:40:07  \n",
       "2022-01-01 10:10:10       Matara  2022      1    1  10:10:10  \n",
       "2022-01-01 10:10:10       Matara  2022      1    1  10:10:10  \n",
       "2022-01-01 10:10:10       Matara  2022      1    1  10:10:10  \n",
       "2022-01-01 10:44:06        Kandy  2022      1    1  10:44:06  \n",
       "\n",
       "[5 rows x 27 columns]"
      ]
     },
     "execution_count": 7,
     "metadata": {},
     "output_type": "execute_result"
    }
   ],
   "source": [
    "#Converting String to DateTime by separating year, month, day and time\n",
    "SalesData['Year']=pd.DatetimeIndex(SalesData['InvoiceDate']).year\n",
    "SalesData['Month']=pd.DatetimeIndex(SalesData['InvoiceDate']).month\n",
    "SalesData['Day']=pd.DatetimeIndex(SalesData['InvoiceDate']).day\n",
    "SalesData['Time']=pd.DatetimeIndex(SalesData['InvoiceDate']).time\n",
    "#Setting InvoiceDate column as index\n",
    "SalesData.set_index(pd.to_datetime(SalesData['InvoiceDate']), inplace=True)\n",
    "#Display\n",
    "SalesData.head()"
   ]
  },
  {
   "cell_type": "code",
   "execution_count": 8,
   "id": "f06f00e4-99fa-46c5-bf0e-310fd4f2cd55",
   "metadata": {
    "tags": []
   },
   "outputs": [
    {
     "name": "stdout",
     "output_type": "stream",
     "text": [
      "['Diabetasol Sweetener, sachets 50s' \"Dometic 10Mg Tabs  , 5 X 10'S\"\n",
      " \"Clavamox 500 Tabs 625Mg 3 X 10'S\" \"Xon Ce Tabs 500Mg 50X2'S\"\n",
      " 'Astifen 1mg/5ml Syrup 60ml' 'Dometic Syrup 5mg/5ml, 60 ml   Bottle'\n",
      " \"Zegavit Tabs , 10 X 5'S\" 'Diabetasol Vanila 360gm Tin'\n",
      " \"Zeos Tablets 10Mg ,5 X 10'S\" \"Nevox XR ,500mg Tabs,3x10's\"\n",
      " \"ASTIFEN 1MG TABS 10'SX 6\" \"Diaflam Tabs 50Mg 5 X10'S\"\n",
      " \"Hexilon 4mg Tabs, 5x10's\" 'Zeos oral sol 5mg/5ml 60ml'\n",
      " 'Nocid Tabs 10x10s' 'Mycoral cream 2% 15GM' 'Mycoral cream 2% 5GM'\n",
      " 'Trifix 100mg/5ml Pow-OralSusp 30ml' 'Diabetasol Vanila 180g'\n",
      " \"Unitrac 100Mg Caps 3 X 10'S\" \"Divoltar Tabs 50Mg , 5 X 10'S\"\n",
      " 'Metrix 2mg Tabs 2x15s' 'Car-Q 100 Tabs 30s'\n",
      " \"Clavamox 250 Tabs 375MG  3x10's\" \"Citaz 100mg Tabs , 5x10's\"\n",
      " 'Clavamox Inj 1.2gm 1s' 'Trifix 200mg Tabs 3x10s' 'Citicol 500mg 30s'\n",
      " \"Hexilon 16mg Tabs, 3x10's\" 'Rillus Tabs 5x6s' 'Gersia Tabs 5mg 30s'\n",
      " 'Nutrican  243gm - 3 x81gm sachets' 'KALTROFEN GEL 2.5%,30G'\n",
      " 'Nephrisol\\xa0183gm - 3 x 61gm sachets' 'Entrasol 400gm Tin'\n",
      " 'Hepatosol 240gm - 3 x 80gm sachets' 'Kalcetam 800mg Tabs 5x10s'\n",
      " \"Merofen 500mg IV Vial 1's\" \"Broadced 1Gm Inj., 1'S\"\n",
      " 'Peptisol 189gm - 3 x 63gm sachets' 'Rillus Jr. 2.5gm stick 30s'\n",
      " \"Glidabet 80Mg , 10 X 10'S\" 'Diabetasol Chocolate 180g'\n",
      " \"KALFOXIM 1G -1'S\" \"Merofen 1gm IV Vial 1's\"\n",
      " 'Diabetasol Chocolate\\xa0 360g' \"Cetinal 10 mg Tabs,3x10's\"\n",
      " 'Diabetasol Sweetener HORECA 200s' 'Osfit DHA Caps 3x10s'\n",
      " 'Kalmeco 500mcg Caps 100s' \"Car-Q 100,Tabs 30's\"\n",
      " 'Albiotin Acne Solution 10mg/ml 30ml' 'CLAVAMOX 125 SYRUP 60ML']\n"
     ]
    }
   ],
   "source": [
    "#All the unique products sold\n",
    "ProductSold=SalesData[\"Product\"].unique()\n",
    "#Display\n",
    "print(ProductSold)"
   ]
  },
  {
   "cell_type": "code",
   "execution_count": 9,
   "id": "b02af45a-6efa-4537-9a52-d73b55b07bce",
   "metadata": {
    "tags": []
   },
   "outputs": [
    {
     "data": {
      "text/html": [
       "<div>\n",
       "<style scoped>\n",
       "    .dataframe tbody tr th:only-of-type {\n",
       "        vertical-align: middle;\n",
       "    }\n",
       "\n",
       "    .dataframe tbody tr th {\n",
       "        vertical-align: top;\n",
       "    }\n",
       "\n",
       "    .dataframe thead th {\n",
       "        text-align: right;\n",
       "    }\n",
       "</style>\n",
       "<table border=\"1\" class=\"dataframe\">\n",
       "  <thead>\n",
       "    <tr style=\"text-align: right;\">\n",
       "      <th></th>\n",
       "      <th>Product</th>\n",
       "      <th>NetAmount</th>\n",
       "    </tr>\n",
       "    <tr>\n",
       "      <th>InvoiceDate</th>\n",
       "      <th></th>\n",
       "      <th></th>\n",
       "    </tr>\n",
       "  </thead>\n",
       "  <tbody>\n",
       "    <tr>\n",
       "      <th>2022-01-01 09:40:07</th>\n",
       "      <td>Diabetasol Sweetener, sachets 50s</td>\n",
       "      <td>570.44</td>\n",
       "    </tr>\n",
       "    <tr>\n",
       "      <th>2022-01-01 10:10:10</th>\n",
       "      <td>Dometic 10Mg Tabs  , 5 X 10'S</td>\n",
       "      <td>3069.60</td>\n",
       "    </tr>\n",
       "    <tr>\n",
       "      <th>2022-01-01 10:10:10</th>\n",
       "      <td>Dometic 10Mg Tabs  , 5 X 10'S</td>\n",
       "      <td>0.00</td>\n",
       "    </tr>\n",
       "    <tr>\n",
       "      <th>2022-01-01 10:10:10</th>\n",
       "      <td>Clavamox 500 Tabs 625Mg 3 X 10'S</td>\n",
       "      <td>2049.13</td>\n",
       "    </tr>\n",
       "    <tr>\n",
       "      <th>2022-01-01 10:44:06</th>\n",
       "      <td>Xon Ce Tabs 500Mg 50X2'S</td>\n",
       "      <td>3913.50</td>\n",
       "    </tr>\n",
       "    <tr>\n",
       "      <th>...</th>\n",
       "      <td>...</td>\n",
       "      <td>...</td>\n",
       "    </tr>\n",
       "    <tr>\n",
       "      <th>2022-03-31 13:27:39</th>\n",
       "      <td>Zeos Tablets 10Mg ,5 X 10'S</td>\n",
       "      <td>48220.00</td>\n",
       "    </tr>\n",
       "    <tr>\n",
       "      <th>2022-03-31 13:27:39</th>\n",
       "      <td>Dometic Syrup 5mg/5ml, 60 ml   Bottle</td>\n",
       "      <td>17760.80</td>\n",
       "    </tr>\n",
       "    <tr>\n",
       "      <th>2022-03-31 13:37:35</th>\n",
       "      <td>Unitrac 100Mg Caps 3 X 10'S</td>\n",
       "      <td>51150.00</td>\n",
       "    </tr>\n",
       "    <tr>\n",
       "      <th>2022-03-31 13:37:35</th>\n",
       "      <td>Rillus Tabs 5x6s</td>\n",
       "      <td>23403.60</td>\n",
       "    </tr>\n",
       "    <tr>\n",
       "      <th>2022-03-31 13:27:39</th>\n",
       "      <td>ASTIFEN 1MG TABS 10'SX 6</td>\n",
       "      <td>19280.00</td>\n",
       "    </tr>\n",
       "  </tbody>\n",
       "</table>\n",
       "<p>23832 rows × 2 columns</p>\n",
       "</div>"
      ],
      "text/plain": [
       "                                                   Product  NetAmount\n",
       "InvoiceDate                                                          \n",
       "2022-01-01 09:40:07      Diabetasol Sweetener, sachets 50s     570.44\n",
       "2022-01-01 10:10:10          Dometic 10Mg Tabs  , 5 X 10'S    3069.60\n",
       "2022-01-01 10:10:10          Dometic 10Mg Tabs  , 5 X 10'S       0.00\n",
       "2022-01-01 10:10:10       Clavamox 500 Tabs 625Mg 3 X 10'S    2049.13\n",
       "2022-01-01 10:44:06               Xon Ce Tabs 500Mg 50X2'S    3913.50\n",
       "...                                                    ...        ...\n",
       "2022-03-31 13:27:39            Zeos Tablets 10Mg ,5 X 10'S   48220.00\n",
       "2022-03-31 13:27:39  Dometic Syrup 5mg/5ml, 60 ml   Bottle   17760.80\n",
       "2022-03-31 13:37:35            Unitrac 100Mg Caps 3 X 10'S   51150.00\n",
       "2022-03-31 13:37:35                       Rillus Tabs 5x6s   23403.60\n",
       "2022-03-31 13:27:39               ASTIFEN 1MG TABS 10'SX 6   19280.00\n",
       "\n",
       "[23832 rows x 2 columns]"
      ]
     },
     "execution_count": 9,
     "metadata": {},
     "output_type": "execute_result"
    }
   ],
   "source": [
    "#Products sold based on Net Amount\n",
    "ProductSoldNet=SalesData[[\"Product\",\"NetAmount\"]].groupby(\"NetAmount\")\n",
    "#Display\n",
    "ProductSoldNet.head(25)"
   ]
  },
  {
   "cell_type": "code",
   "execution_count": 10,
   "id": "bc85c748-8912-4a30-b3d4-ab305f10a0d5",
   "metadata": {
    "tags": []
   },
   "outputs": [
    {
     "data": {
      "text/html": [
       "<div>\n",
       "<style scoped>\n",
       "    .dataframe tbody tr th:only-of-type {\n",
       "        vertical-align: middle;\n",
       "    }\n",
       "\n",
       "    .dataframe tbody tr th {\n",
       "        vertical-align: top;\n",
       "    }\n",
       "\n",
       "    .dataframe thead th {\n",
       "        text-align: right;\n",
       "    }\n",
       "</style>\n",
       "<table border=\"1\" class=\"dataframe\">\n",
       "  <thead>\n",
       "    <tr style=\"text-align: right;\">\n",
       "      <th></th>\n",
       "      <th>Product</th>\n",
       "      <th>NetAmount</th>\n",
       "    </tr>\n",
       "    <tr>\n",
       "      <th>InvoiceDate</th>\n",
       "      <th></th>\n",
       "      <th></th>\n",
       "    </tr>\n",
       "  </thead>\n",
       "  <tbody>\n",
       "    <tr>\n",
       "      <th>2022-03-07</th>\n",
       "      <td>Xon Ce Tabs 500Mg 50X2'S</td>\n",
       "      <td>3828103.6</td>\n",
       "    </tr>\n",
       "    <tr>\n",
       "      <th>2022-02-09</th>\n",
       "      <td>Xon Ce Tabs 500Mg 50X2'S</td>\n",
       "      <td>2607700.0</td>\n",
       "    </tr>\n",
       "    <tr>\n",
       "      <th>2022-02-25</th>\n",
       "      <td>Merofen 1gm IV Vial 1's</td>\n",
       "      <td>2318375.0</td>\n",
       "    </tr>\n",
       "    <tr>\n",
       "      <th>2022-03-29</th>\n",
       "      <td>Diabetasol Vanila 360gm Tin</td>\n",
       "      <td>2106168.0</td>\n",
       "    </tr>\n",
       "    <tr>\n",
       "      <th>2022-02-16</th>\n",
       "      <td>Xon Ce Tabs 500Mg 50X2'S</td>\n",
       "      <td>1955775.0</td>\n",
       "    </tr>\n",
       "  </tbody>\n",
       "</table>\n",
       "</div>"
      ],
      "text/plain": [
       "                                 Product  NetAmount\n",
       "InvoiceDate                                        \n",
       "2022-03-07      Xon Ce Tabs 500Mg 50X2'S  3828103.6\n",
       "2022-02-09      Xon Ce Tabs 500Mg 50X2'S  2607700.0\n",
       "2022-02-25       Merofen 1gm IV Vial 1's  2318375.0\n",
       "2022-03-29   Diabetasol Vanila 360gm Tin  2106168.0\n",
       "2022-02-16      Xon Ce Tabs 500Mg 50X2'S  1955775.0"
      ]
     },
     "execution_count": 10,
     "metadata": {},
     "output_type": "execute_result"
    }
   ],
   "source": [
    "#Most products sold based on Net Amount\n",
    "ProductSoldMostinNet=SalesData[[\"Product\",\"NetAmount\"]].sort_values(by='NetAmount', ascending=False)\n",
    "#Display\n",
    "ProductSoldMostinNet.head()"
   ]
  },
  {
   "cell_type": "code",
   "execution_count": 13,
   "id": "369d66ed-1cd3-40bc-961f-67cb5ab629b8",
   "metadata": {
    "tags": []
   },
   "outputs": [
    {
     "name": "stdout",
     "output_type": "stream",
     "text": [
      "['Colombo - A' 'Matara' 'Kandy' 'Badulla' 'Ampara' 'Puttalam'\n",
      " 'Colombo - B' 'Batticaloa' 'Kurunegala' 'Colombo - C' 'Colombo - D'\n",
      " 'Ratnapura' 'Colombo 1-15' 'Anuradhapura' 'Galle' 'Jaffna'\n",
      " 'Tissamaharama']\n"
     ]
    }
   ],
   "source": [
    "#Districts in which the products are sold\n",
    "ProductSoldinDistrict=SalesData[\"District\"].unique()\n",
    "#Display\n",
    "print(ProductSoldinDistrict)"
   ]
  },
  {
   "cell_type": "code",
   "execution_count": 14,
   "id": "1beadb98-8dcb-42fe-9b40-bda5770d91e6",
   "metadata": {
    "tags": []
   },
   "outputs": [
    {
     "name": "stdout",
     "output_type": "stream",
     "text": [
      "Colombo - A\n",
      "                               NetAmount\n",
      "Product                                 \n",
      "Nevox XR ,500mg Tabs,3x10's  11457782.89\n",
      "Xon Ce Tabs 500Mg 50X2'S     10140529.90\n",
      "Zeos Tablets 10Mg ,5 X 10'S   4652022.55\n",
      "Diabetasol Vanila 360gm Tin   3259706.96\n",
      "Nocid Tabs 10x10s             2470940.97\n",
      "\n",
      "Matara\n",
      "                                   NetAmount\n",
      "Product                                     \n",
      "Nevox XR ,500mg Tabs,3x10's       9905790.48\n",
      "Xon Ce Tabs 500Mg 50X2'S          4607141.40\n",
      "Zeos Tablets 10Mg ,5 X 10'S       2594012.95\n",
      "Diabetasol Vanila 360gm Tin       1693909.73\n",
      "Clavamox 500 Tabs 625Mg 3 X 10'S  1272236.69\n",
      "\n",
      "Kandy\n",
      "                                    NetAmount\n",
      "Product                                      \n",
      "Nevox XR ,500mg Tabs,3x10's       12197020.51\n",
      "Xon Ce Tabs 500Mg 50X2'S           7546606.10\n",
      "Diabetasol Vanila 360gm Tin        4288705.12\n",
      "Citicol 500mg 30s                  3812464.58\n",
      "Clavamox 500 Tabs 625Mg 3 X 10'S   3491275.60\n",
      "\n",
      "Badulla\n",
      "                              NetAmount\n",
      "Product                                \n",
      "Nevox XR ,500mg Tabs,3x10's  3345880.28\n",
      "Xon Ce Tabs 500Mg 50X2'S     1576232.90\n",
      "Diabetasol Vanila 360gm Tin  1448325.40\n",
      "Mycoral cream 2% 15GM        1245815.33\n",
      "Nocid Tabs 10x10s             823339.10\n",
      "\n",
      "Ampara\n",
      "                                   NetAmount\n",
      "Product                                     \n",
      "Xon Ce Tabs 500Mg 50X2'S          1092894.50\n",
      "Diabetasol Vanila 360gm Tin       1013530.88\n",
      "Nevox XR ,500mg Tabs,3x10's        698802.65\n",
      "Mycoral cream 2% 15GM              633694.45\n",
      "Clavamox 500 Tabs 625Mg 3 X 10'S   591769.29\n",
      "\n",
      "Puttalam\n",
      "                                   NetAmount\n",
      "Product                                     \n",
      "Nevox XR ,500mg Tabs,3x10's       7036735.55\n",
      "Xon Ce Tabs 500Mg 50X2'S          2885101.20\n",
      "Zeos Tablets 10Mg ,5 X 10'S       2672963.60\n",
      "Clavamox 500 Tabs 625Mg 3 X 10'S  2659875.28\n",
      "Diabetasol Vanila 360gm Tin       2353988.79\n",
      "\n",
      "Colombo - B\n",
      "                                    NetAmount\n",
      "Product                                      \n",
      "Nevox XR ,500mg Tabs,3x10's       21733473.22\n",
      "Xon Ce Tabs 500Mg 50X2'S          20610207.30\n",
      "Zeos Tablets 10Mg ,5 X 10'S        8206673.30\n",
      "Diabetasol Vanila 360gm Tin        6838789.32\n",
      "Clavamox 500 Tabs 625Mg 3 X 10'S   6324163.45\n",
      "\n",
      "Batticaloa\n",
      "                              NetAmount\n",
      "Product                                \n",
      "Xon Ce Tabs 500Mg 50X2'S     1559067.50\n",
      "Diabetasol Vanila 360gm Tin  1211346.91\n",
      "Broadced 1Gm Inj., 1'S       1078460.85\n",
      "Entrasol 400gm Tin            517587.90\n",
      "Nevox XR ,500mg Tabs,3x10's   438346.45\n",
      "\n",
      "Kurunegala\n",
      "                                    NetAmount\n",
      "Product                                      \n",
      "Nevox XR ,500mg Tabs,3x10's       16004463.47\n",
      "Xon Ce Tabs 500Mg 50X2'S           8398822.10\n",
      "Clavamox 500 Tabs 625Mg 3 X 10'S   4994992.37\n",
      "Zeos Tablets 10Mg ,5 X 10'S        4288378.15\n",
      "Diabetasol Vanila 360gm Tin        2763596.76\n",
      "\n",
      "Colombo - C\n",
      "                                    NetAmount\n",
      "Product                                      \n",
      "Nevox XR ,500mg Tabs,3x10's       16926588.93\n",
      "Xon Ce Tabs 500Mg 50X2'S           9228599.80\n",
      "Zeos Tablets 10Mg ,5 X 10'S        6252278.20\n",
      "Clavamox 500 Tabs 625Mg 3 X 10'S   4872044.57\n",
      "Diabetasol Vanila 360gm Tin        3262114.39\n",
      "\n",
      "Colombo - D\n",
      "                               NetAmount\n",
      "Product                                 \n",
      "Nevox XR ,500mg Tabs,3x10's  18545013.26\n",
      "Xon Ce Tabs 500Mg 50X2'S      7917919.50\n",
      "Merofen 1gm IV Vial 1's       7369743.43\n",
      "Broadced 1Gm Inj., 1'S        4596491.03\n",
      "Zeos Tablets 10Mg ,5 X 10'S   4016456.70\n",
      "\n",
      "Ratnapura\n",
      "                                   NetAmount\n",
      "Product                                     \n",
      "Nevox XR ,500mg Tabs,3x10's       7173711.04\n",
      "Xon Ce Tabs 500Mg 50X2'S          4129121.20\n",
      "Zeos Tablets 10Mg ,5 X 10'S       2113570.95\n",
      "Clavamox 500 Tabs 625Mg 3 X 10'S  1864200.90\n",
      "Mycoral cream 2% 15GM             1516350.42\n",
      "\n",
      "Colombo 1-15\n",
      "                               NetAmount\n",
      "Product                                 \n",
      "Xon Ce Tabs 500Mg 50X2'S     32967349.24\n",
      "Nevox XR ,500mg Tabs,3x10's  20711510.60\n",
      "Diabetasol Vanila 360gm Tin  20561571.31\n",
      "Merofen 1gm IV Vial 1's      15130643.05\n",
      "Broadced 1Gm Inj., 1'S       10521311.43\n",
      "\n",
      "Anuradhapura\n",
      "                              NetAmount\n",
      "Product                                \n",
      "Nevox XR ,500mg Tabs,3x10's  4946932.68\n",
      "Diabetasol Vanila 360gm Tin  3265636.76\n",
      "Xon Ce Tabs 500Mg 50X2'S     2963148.70\n",
      "Mycoral cream 2% 15GM        2583887.07\n",
      "Zeos Tablets 10Mg ,5 X 10'S  1655390.00\n",
      "\n",
      "Galle\n",
      "                                    NetAmount\n",
      "Product                                      \n",
      "Nevox XR ,500mg Tabs,3x10's       14698964.82\n",
      "Xon Ce Tabs 500Mg 50X2'S          10315379.80\n",
      "Zeos Tablets 10Mg ,5 X 10'S        5917110.80\n",
      "Clavamox 500 Tabs 625Mg 3 X 10'S   5833535.73\n",
      "Diabetasol Vanila 360gm Tin        4241482.34\n",
      "\n",
      "Jaffna\n",
      "                                    NetAmount\n",
      "Product                                      \n",
      "Xon Ce Tabs 500Mg 50X2'S           5469425.70\n",
      "Diabetasol Vanila 360gm Tin        2368400.00\n",
      "Diabetasol Sweetener, sachets 50s  1377807.78\n",
      "Mycoral cream 2% 15GM               567168.87\n",
      "Nevox XR ,500mg Tabs,3x10's         318140.63\n",
      "\n",
      "Tissamaharama\n",
      "                                   NetAmount\n",
      "Product                                     \n",
      "Nevox XR ,500mg Tabs,3x10's       3464609.79\n",
      "Clavamox 500 Tabs 625Mg 3 X 10'S  2535932.21\n",
      "Xon Ce Tabs 500Mg 50X2'S          2073623.50\n",
      "Zeos Tablets 10Mg ,5 X 10'S       1238432.55\n",
      "Mycoral cream 2% 15GM             1179317.74\n",
      "\n"
     ]
    }
   ],
   "source": [
    "#Most Products sold in each District based on Net Amount\n",
    "ProductSoldPerDistrict = {\n",
    "    District:SalesData[SalesData[\"District\"] == District][[\"Product\", \"NetAmount\"]].groupby(\"Product\").sum().sort_values(by='NetAmount', ascending=False) for District in ProductSoldinDistrict\n",
    "}\n",
    "#Displaying most prducts sold in each District based on Net Amount\n",
    "for District, Product in ProductSoldPerDistrict.items():\n",
    "    print(District)\n",
    "    print(Product.head(), end=\"\\n\\n\")"
   ]
  },
  {
   "cell_type": "code",
   "execution_count": 18,
   "id": "8f62937f-6f86-4976-b0cb-59b5bc4e1124",
   "metadata": {
    "tags": []
   },
   "outputs": [
    {
     "name": "stdout",
     "output_type": "stream",
     "text": [
      "['Moratuwa' 'Matara' 'Kandy' 'Gampola' 'Bandarawela' 'Dehiwala'\n",
      " 'Piliyandala' 'Boralesgamuwa' 'Soysapura' 'Ampara' 'Mahawewa' 'Hingurana'\n",
      " 'Horana' 'Malabe' 'Athurugiriya' 'Eravur' 'Ibbagamuwa' 'Gokarella'\n",
      " 'Hiripitiya' 'Rajagiriya' 'Wattegama' 'Akkaraipattu' 'Gelioya'\n",
      " 'Peradeniya' 'Nawalapitiya' 'Kegalle' 'Matale' 'Kurunegala' 'Wariyapola'\n",
      " 'Melsiripura' 'Nikadalupota' 'Kiribathgoda' 'Raddolugama' 'Seeduwa'\n",
      " 'Negombo' 'Ja-Ela' 'Batticaloa' 'Arayampathy' 'Kathankudi' 'Katugastota'\n",
      " 'Akurana' 'Kundasale' 'Chilaw' 'Meegoda' 'Eheliyagoda' 'Awissawella'\n",
      " 'Galagedara' 'Colombo  3' 'Nugegoda' 'Deniyaya' 'Weligama' 'Giriulla'\n",
      " 'Kelaniya' 'Marawila' 'Nattandiya' 'Dummalasooriya' 'Gampaha' 'Atalugama'\n",
      " 'Aranayake' 'Hingurakgoda' 'Pannala' 'Kuliyapitiya' 'Narammala' 'Galle'\n",
      " 'Dodangoda' 'Dharga Town' 'Bibile' 'Divulapitiya' 'Colombo  2'\n",
      " 'Mahiyanganaya' 'Thalawakelle' 'Colombo  4' 'Colombo  6' 'Colombo 15'\n",
      " 'Padukka' 'Kolonnawa' 'Pitabaddara' 'Morawake' 'Colombo  5' 'Karapitiya'\n",
      " 'Karandeniya' 'Batapola' 'Baddegama' 'Kalutara' 'Maggona' 'Kadugannawa'\n",
      " 'Ratnapura' 'Hanwella' 'Yatiyantota' 'Kosgama' 'Mawathagama' 'Kadawatha'\n",
      " 'Polonnaruwa' 'Katunayake' 'Ragama' 'Nittambuwa' 'Maharagama'\n",
      " 'Averiwatta' 'Warellagama' 'Badalkumbura' 'Wellampitiya' 'Wattala'\n",
      " 'Alawathugoda' 'Tithtapajjala' 'Madawala' 'Kesbewa' 'Mawanella'\n",
      " 'Lunuwila' 'Udubaddawa' 'Wennappuwa' 'Pilimatalawa' 'Panadura'\n",
      " 'Balangoda' 'Madampe' 'Mannar - Jaffna' 'Vavuniya' 'Kilinochchi'\n",
      " 'Matugama' 'Agalawatta' 'Puttalam' 'Anuradhapura' 'Ambalangoda' 'Pugoda'\n",
      " 'Delgoda' 'Dekatana' 'Colombo  8' 'Thelijjawila' 'Akuressa'\n",
      " 'Sainthamaruthu' 'Colombo 13' 'Jayanthipura' 'Ninthavur' 'Kalmunai'\n",
      " 'Jaffna' 'Ratmalana' 'Warakapola' 'Alawwa' 'Makadura' 'Kotadeniyawa'\n",
      " 'Bandaragama' 'Hambantota' 'Kirindiwela' 'Monaragala' 'Udugama'\n",
      " 'Maruthamunai' 'Kotikawatta' 'Ampitiya' 'Digana' 'Aralaganwila'\n",
      " 'Kaduruwela' 'Thalawathugoda' 'Yakkala' 'Thihariya' 'Veyangoda'\n",
      " 'Udugampola' 'Makola' 'Balapitiya' 'Colombo 10' 'Colombo 14'\n",
      " 'Mulleriyawa' 'Nagoda' 'Theldeniya' 'Rikilladaskada' 'Mount Lavinia'\n",
      " 'Attidiya' 'Beruwala' 'Wadduwa' 'Hikkaduwa' 'Pokunuwita' 'Pothuhera'\n",
      " 'Kamburupitiya' 'Dewata' 'Yakkalamulla' 'Katugoda' 'Miriswatte'\n",
      " 'Arachcikatuwa' 'Radawana' 'Nikaweratiya' 'Homagama' 'Katana' 'Badalgama'\n",
      " 'Thalathuoya' 'Galgamuwa' 'Hanguranketha' 'Bangadeniya' 'Passara'\n",
      " 'Buttala' 'Kalawana' 'Thambuththegama' 'Oddamavadi' 'Kekirawa' 'Wakwella'\n",
      " 'Angoda' 'Kaduwela' 'Kottawa' 'Aluthgama' 'Minuwangoda' 'Elakanda'\n",
      " 'Galkulama' 'Battaramulla' 'Nawala' 'Pannipitiya' 'Colombo  7'\n",
      " 'Wellawaya' 'Kuruwita' 'Rajanganaya' 'Pelawatta' 'Kotte' 'Colombo 11'\n",
      " 'Colombo 12' 'Madurankuliya' 'Kochchikade' 'Mirissa' 'Imaduwa' 'Hendala'\n",
      " 'Pointpedro' 'Achchuvely' 'Padaviya' 'Peliyagoda' 'Colombo  9'\n",
      " 'Maradankadawala' 'Rideegama' 'Rambukkana' 'Kahatuduwa' 'Welimada'\n",
      " 'Weliveriya' 'Dompe' 'Jayawardenepura' 'Mattegoda' 'Dondara' 'Eppawala'\n",
      " 'Valachchenai' 'Ahangama' 'Chunnakam' 'Nochchiagama' 'Kalubowila'\n",
      " 'Meetiyagoda' 'Medirigiriya' 'Galnewa' 'Dankotuwa' 'Mahabage' 'Thalawa'\n",
      " 'Hungama' 'Debarawewa' 'Devundara' 'Walasmulla' 'Polgahawela' 'Hettipola'\n",
      " 'Madawachchiya' 'Dambulla' 'Kobeigane' 'Kandana' 'Kotiyakumbura'\n",
      " 'Diyatalawa' 'Sarikkamulla' 'Thirunelvely' 'Badulla' 'Kahawatte'\n",
      " 'Ruwanwella' 'Galewela' 'Kantale' 'Hakmana' 'Wathupitiwela' 'Rawatawatta'\n",
      " 'Bingiriya' 'Middeniya' 'Sooriyawewa' 'Manipay' 'Karawanella' 'Dehiowita'\n",
      " 'Thalangama' 'Koswatta' 'Ganemulla' 'Elpitiya' 'Uragasmanhandiya'\n",
      " 'Weeraketiya' 'Trincomalee' 'Chavakachchery' 'Kinniya' 'Haliela'\n",
      " 'Induruwa' 'Embilipitiya' 'Katubedda' 'Mirigama' 'Ukuwela' 'Polgasovita'\n",
      " 'Kokadicholai' 'Hemmathagama' 'Katuneriya' 'Menikhinna' 'Beliatta'\n",
      " 'Tangalle' 'Nainamadama' 'Waikkala' 'Kohuwala' 'Ingiriya' 'Passyala'\n",
      " 'Tissamaharama' 'Urapola' 'Colombo  1' 'Payagala' 'Ambalantota'\n",
      " 'Agunukolapelessa' 'Dickwella' 'Pepiliyana' 'Sammanthurai' 'Anamaduwa'\n",
      " 'Maho' 'Pussellawa' 'Chenkalady' 'Pothuvil' 'Uhana' 'Waskaduwa'\n",
      " 'Bopitiya' 'Kirillawala' 'Gonapola' 'Kahatagasdigiliya' 'Neluwa'\n",
      " 'Nuwara Eliya' 'Godakawela' 'Hatton' 'Palmadulla' 'Baduraliya'\n",
      " 'Kataragama' 'Kalawanchikudi' 'Thanamalwila' 'Moragahahena' 'Dambadeniya'\n",
      " 'Sripura' 'Keppettipola' 'Muthur' 'Norochchole' 'Kebithigollewa'\n",
      " 'Biyagama' 'Malwana' 'Ahungalla' 'Horowpathana' 'Pallebedda' 'Meepe'\n",
      " 'Bentara' 'Bentota' 'Hunupitiya' 'Pitigala' 'Rambewa' 'Ranna'\n",
      " 'Wilaththawa' 'Galenbidunuwewa' 'Pahatgama' 'Maradagahamulla'\n",
      " 'Puwakpitiya' 'Mihintale' 'Kurundugaha' 'Nivitigala' 'Habaraduwa'\n",
      " 'Deraniyagala' 'Girandurukotte' 'Galaha' 'Haputale' 'Dahaiyagama'\n",
      " 'Dehiattakandiya' 'Watara' 'Medagama' 'Kamburugamuwa' 'Thihagoda'\n",
      " 'Mundal' 'Katukurunda' 'Enderamulla' 'Rajawella' 'Hokandara' 'Kirinda'\n",
      " 'Rakwana' 'Tissa' 'Ginigathhena' 'Maskeliya' 'Palavi' 'Udupussalawa'\n",
      " 'Ragala' 'Mirihana' 'Udatalawinna' 'Kottikallaru' 'Kiriella' 'Karainagar'\n",
      " 'Kottagala' 'Kalpitiya' 'Minneriya' 'Bowatte' 'Pundaluoya'\n",
      " 'Addalachchenai' 'Pallewela' 'Habarana' 'Kandapola' 'Megahakiula'\n",
      " 'Lunugamwehera' 'Bogawantalawa']\n"
     ]
    }
   ],
   "source": [
    "#Products sold in Customer Town\n",
    "ProductSoldinCustomerTown=SalesData[\"CustomerTown\"].unique()\n",
    "#Display\n",
    "print(ProductSoldinCustomerTown)"
   ]
  },
  {
   "cell_type": "code",
   "execution_count": 19,
   "id": "1d6572c5-b9f9-4eeb-89a8-a4f832f1e3c8",
   "metadata": {
    "tags": []
   },
   "outputs": [
    {
     "data": {
      "text/html": [
       "<div>\n",
       "<style scoped>\n",
       "    .dataframe tbody tr th:only-of-type {\n",
       "        vertical-align: middle;\n",
       "    }\n",
       "\n",
       "    .dataframe tbody tr th {\n",
       "        vertical-align: top;\n",
       "    }\n",
       "\n",
       "    .dataframe thead th {\n",
       "        text-align: right;\n",
       "    }\n",
       "</style>\n",
       "<table border=\"1\" class=\"dataframe\">\n",
       "  <thead>\n",
       "    <tr style=\"text-align: right;\">\n",
       "      <th></th>\n",
       "      <th></th>\n",
       "      <th>NetAmount</th>\n",
       "    </tr>\n",
       "    <tr>\n",
       "      <th>CustomerTown</th>\n",
       "      <th>Product</th>\n",
       "      <th></th>\n",
       "    </tr>\n",
       "  </thead>\n",
       "  <tbody>\n",
       "    <tr>\n",
       "      <th rowspan=\"2\" valign=\"top\">Achchuvely</th>\n",
       "      <th>Xon Ce Tabs 500Mg 50X2'S</th>\n",
       "      <td>101751.00</td>\n",
       "    </tr>\n",
       "    <tr>\n",
       "      <th>Zeos oral sol 5mg/5ml 60ml</th>\n",
       "      <td>6017.00</td>\n",
       "    </tr>\n",
       "    <tr>\n",
       "      <th rowspan=\"7\" valign=\"top\">Addalachchenai</th>\n",
       "      <th>ASTIFEN 1MG TABS 10'SX 6</th>\n",
       "      <td>1495.00</td>\n",
       "    </tr>\n",
       "    <tr>\n",
       "      <th>Astifen 1mg/5ml Syrup 60ml</th>\n",
       "      <td>1255.50</td>\n",
       "    </tr>\n",
       "    <tr>\n",
       "      <th>Hexilon 4mg Tabs, 5x10's</th>\n",
       "      <td>2023.05</td>\n",
       "    </tr>\n",
       "    <tr>\n",
       "      <th>KALTROFEN GEL 2.5%,30G</th>\n",
       "      <td>7980.00</td>\n",
       "    </tr>\n",
       "    <tr>\n",
       "      <th>Trifix 100mg/5ml Pow-OralSusp 30ml</th>\n",
       "      <td>4247.90</td>\n",
       "    </tr>\n",
       "    <tr>\n",
       "      <th>Zeos Tablets 10Mg ,5 X 10'S</th>\n",
       "      <td>4673.75</td>\n",
       "    </tr>\n",
       "    <tr>\n",
       "      <th>Zeos oral sol 5mg/5ml 60ml</th>\n",
       "      <td>4512.75</td>\n",
       "    </tr>\n",
       "    <tr>\n",
       "      <th rowspan=\"11\" valign=\"top\">Agalawatta</th>\n",
       "      <th>ASTIFEN 1MG TABS 10'SX 6</th>\n",
       "      <td>3737.50</td>\n",
       "    </tr>\n",
       "    <tr>\n",
       "      <th>Astifen 1mg/5ml Syrup 60ml</th>\n",
       "      <td>9043.50</td>\n",
       "    </tr>\n",
       "    <tr>\n",
       "      <th>Car-Q 100 Tabs 30s</th>\n",
       "      <td>10269.57</td>\n",
       "    </tr>\n",
       "    <tr>\n",
       "      <th>Citicol 500mg 30s</th>\n",
       "      <td>2817.40</td>\n",
       "    </tr>\n",
       "    <tr>\n",
       "      <th>Clavamox 250 Tabs 375MG  3x10's</th>\n",
       "      <td>12765.26</td>\n",
       "    </tr>\n",
       "    <tr>\n",
       "      <th>Clavamox 500 Tabs 625Mg 3 X 10'S</th>\n",
       "      <td>40982.60</td>\n",
       "    </tr>\n",
       "    <tr>\n",
       "      <th>Diabetasol Sweetener, sachets 50s</th>\n",
       "      <td>2021.31</td>\n",
       "    </tr>\n",
       "    <tr>\n",
       "      <th>Diabetasol Vanila 180g</th>\n",
       "      <td>2215.66</td>\n",
       "    </tr>\n",
       "    <tr>\n",
       "      <th>Diabetasol Vanila 360gm Tin</th>\n",
       "      <td>14825.05</td>\n",
       "    </tr>\n",
       "    <tr>\n",
       "      <th>Divoltar Tabs 50Mg , 5 X 10'S</th>\n",
       "      <td>17233.91</td>\n",
       "    </tr>\n",
       "    <tr>\n",
       "      <th>Dometic 10Mg Tabs  , 5 X 10'S</th>\n",
       "      <td>1227.84</td>\n",
       "    </tr>\n",
       "  </tbody>\n",
       "</table>\n",
       "</div>"
      ],
      "text/plain": [
       "                                                   NetAmount\n",
       "CustomerTown   Product                                      \n",
       "Achchuvely     Xon Ce Tabs 500Mg 50X2'S            101751.00\n",
       "               Zeos oral sol 5mg/5ml 60ml            6017.00\n",
       "Addalachchenai ASTIFEN 1MG TABS 10'SX 6              1495.00\n",
       "               Astifen 1mg/5ml Syrup 60ml            1255.50\n",
       "               Hexilon 4mg Tabs, 5x10's              2023.05\n",
       "               KALTROFEN GEL 2.5%,30G                7980.00\n",
       "               Trifix 100mg/5ml Pow-OralSusp 30ml    4247.90\n",
       "               Zeos Tablets 10Mg ,5 X 10'S           4673.75\n",
       "               Zeos oral sol 5mg/5ml 60ml            4512.75\n",
       "Agalawatta     ASTIFEN 1MG TABS 10'SX 6              3737.50\n",
       "               Astifen 1mg/5ml Syrup 60ml            9043.50\n",
       "               Car-Q 100 Tabs 30s                   10269.57\n",
       "               Citicol 500mg 30s                     2817.40\n",
       "               Clavamox 250 Tabs 375MG  3x10's      12765.26\n",
       "               Clavamox 500 Tabs 625Mg 3 X 10'S     40982.60\n",
       "               Diabetasol Sweetener, sachets 50s     2021.31\n",
       "               Diabetasol Vanila 180g                2215.66\n",
       "               Diabetasol Vanila 360gm Tin          14825.05\n",
       "               Divoltar Tabs 50Mg , 5 X 10'S        17233.91\n",
       "               Dometic 10Mg Tabs  , 5 X 10'S         1227.84"
      ]
     },
     "execution_count": 19,
     "metadata": {},
     "output_type": "execute_result"
    }
   ],
   "source": [
    "#Products sold in customers Town based on  Net Amount\n",
    "ProductSoldinCustomerTown=SalesData[[\"CustomerTown\",\"Product\",\"NetAmount\"]].groupby([\"CustomerTown\",\"Product\"]).sum()\n",
    "#Display\n",
    "ProductSoldinCustomerTown.head(20)"
   ]
  },
  {
   "cell_type": "code",
   "execution_count": 28,
   "id": "105a29ed-6069-4802-87ac-0d68f4659b5c",
   "metadata": {
    "tags": []
   },
   "outputs": [
    {
     "name": "stdout",
     "output_type": "stream",
     "text": [
      "['Peumi Pharmaceuticals' 'Binelco Marketing(Pvt)Ltd' 'Sri Lanka Pharmacy'\n",
      " 'Prabaharan Agencies' 'S & S Distributors' 'ApexMed Pharmaceuticals'\n",
      " 'Wayamba Distributors' 'G.M.P.Drugs' 'SK Jeelan (Pvt) Ltd'\n",
      " 'A.L.Distributors,' 'Niro Pharma (Pvt) Ltd.'\n",
      " 'The West Central Pharma (Pvt) Ltd'\n",
      " 'Seetha Investments(Pvt)Ltd-Ratnapura' 'Hemas' 'National Pharmaceuticals'\n",
      " 'Sanro Trading(Pvt)Ltd-CMB C' 'Sarath Pharmaceuticals (Pvt) Ltd'\n",
      " 'Dimath Pharmaceuticals (Private) Limited' 'F T C Ventures (Pvt) Ltd'\n",
      " 'LIFECONNECT SOLUTIONS(PVT)LTD-CMB 1-15' 'Ram Medical'\n",
      " 'Seetha Investments(Pvt)Ltd' 'Omindu Pharmaceuticals(Pvt)Ltd'\n",
      " 'Lanka Pharmacy - Galle' 'Chandrasiri Distributors (Pvt) Ltd'\n",
      " 'Perera Pharmacy (PVT) Ltd' 'Lanka Pharmacy - Matara'\n",
      " 'Perera Pharmacy (Pvt) Ltd - Matara' 'Paranagama Associates(Pvt)Ltd']\n"
     ]
    }
   ],
   "source": [
    "Distributors=SalesData[\"Distributor\"].unique()\n",
    "print(Distributors)"
   ]
  },
  {
   "cell_type": "code",
   "execution_count": 29,
   "id": "b7c2bd75-a615-4eb8-a44b-a1158b62aebb",
   "metadata": {
    "tags": []
   },
   "outputs": [
    {
     "name": "stdout",
     "output_type": "stream",
     "text": [
      "['Premier Pharmacy' 'Channel 25' 'D.D.R.Pharmacy' ...\n",
      " 'Kasun Bandara Amarakoon Dr.' 'Madola D.T.S.Dr.' 'Bizra Medical']\n"
     ]
    }
   ],
   "source": [
    "Customers=SalesData[\"Customer\"].unique()\n",
    "print(Customers)"
   ]
  },
  {
   "cell_type": "code",
   "execution_count": 31,
   "id": "53cd769b-40f6-4bff-83e4-91fb8bcf09d8",
   "metadata": {
    "tags": []
   },
   "outputs": [
    {
     "name": "stdout",
     "output_type": "stream",
     "text": [
      "['Pharmacies' 'Hospitals - Private' 'Cash Customr-Counter'\n",
      " 'Doct-(Excluding Vet)' 'Oth Pvt Medical Inst' 'Semi Government Inst'\n",
      " 'Optical Institutions' 'Super Market' 'Staff' 'Doctor-(Veterinary)'\n",
      " 'Osu Sala' 'Hospitals - Govt.' 'Farms, Forage Stores' 'SMSRT' 'Other'\n",
      " 'Small Grocery' 'Whole Sale Shop' 'Other Govt Inst.' 'Armed Forces'\n",
      " 'SPC / CPU']\n"
     ]
    }
   ],
   "source": [
    "CustomerGroup=SalesData[\"CustomerGroup\"].unique()\n",
    "print(CustomerGroup)"
   ]
  },
  {
   "cell_type": "code",
   "execution_count": 33,
   "id": "70daa078-2905-4c13-8c63-c2d0849770bf",
   "metadata": {
    "tags": []
   },
   "outputs": [],
   "source": [
    "#Highest sale month \n",
    "BestSales=SalesData.groupby('Month').sum()\n",
    "#Months range between 1 and 3 based on source data\n",
    "months=range(1,4)"
   ]
  },
  {
   "cell_type": "code",
   "execution_count": 34,
   "id": "4a058903-a47a-47a9-a99c-8935d43f035d",
   "metadata": {
    "tags": []
   },
   "outputs": [
    {
     "data": {
      "image/png": "[encoded data removed]",
      "text/plain": [
       "<Figure size 432x288 with 1 Axes>"
      ]
     },
     "metadata": {
      "needs_background": "light"
     },
     "output_type": "display_data"
    }
   ],
   "source": [
    "#Visualization\n",
    "plt.bar(months,BestSales['NetAmount'])\n",
    "plt.xticks(months)\n",
    "plt.xlabel(\"Month number\")\n",
    "plt.ylabel(\"Sales\")\n",
    "plt.show()"
   ]
  },
  {
   "cell_type": "code",
   "execution_count": 35,
   "id": "0f5cd27e-e8b5-4fbc-b221-eee169bb30e3",
   "metadata": {
    "tags": []
   },
   "outputs": [
    {
     "data": {
      "text/plain": [
       "[<matplotlib.lines.Line2D at 0x1d730497eb0>]"
      ]
     },
     "execution_count": 35,
     "metadata": {},
     "output_type": "execute_result"
    },
    {
     "data": {
      "image/png": "[encoded data removed]",
      "text/plain": [
       "<Figure size 1440x720 with 1 Axes>"
      ]
     },
     "metadata": {
      "needs_background": "light"
     },
     "output_type": "display_data"
    }
   ],
   "source": [
    "#Weekly Sales Distribution\n",
    "price_weekly_avg = SalesData.resample('W').apply(np.mean)\n",
    "#Monthly Sales Distribution\n",
    "price_monthly_avg = SalesData.resample('M').apply(np.mean)\n",
    "#Visualization of Weekly Sales Distribution\n",
    "plt.figure(figsize=(20,10))\n",
    "plt.subplot(121)\n",
    "plt.title('Weekly Avg')\n",
    "plt.plot(price_weekly_avg.NetAmount, \"-o\", markersize=3, color='teal')"
   ]
  },
  {
   "cell_type": "code",
   "execution_count": 36,
   "id": "70cf97f3-2e67-43e2-8ded-fe36fbc13a51",
   "metadata": {
    "tags": []
   },
   "outputs": [
    {
     "data": {
      "text/plain": [
       "[<matplotlib.lines.Line2D at 0x1d73064df70>]"
      ]
     },
     "execution_count": 36,
     "metadata": {},
     "output_type": "execute_result"
    },
    {
     "data": {
      "image/png": "[encoded data removed]",
      "text/plain": [
       "<Figure size 2160x720 with 1 Axes>"
      ]
     },
     "metadata": {
      "needs_background": "light"
     },
     "output_type": "display_data"
    }
   ],
   "source": [
    "#Visualization of Monthly Sales Distribution\n",
    "plt.figure(figsize=(30,10))\n",
    "plt.subplot(122)\n",
    "plt.title('Monthly Avg')\n",
    "plt.plot(price_monthly_avg.NetAmount, \"-o\", markersize=3, color='teal')"
   ]
  },
  {
   "cell_type": "code",
   "execution_count": 37,
   "id": "6250d0cd-5249-4a3a-887a-42ad54db7783",
   "metadata": {
    "tags": []
   },
   "outputs": [
    {
     "name": "stdout",
     "output_type": "stream",
     "text": [
      "ADF -53.36445026673498\n",
      "pvalue 0.0\n",
      "critical values 3142863.128556435\n",
      "Data is stationary\n"
     ]
    }
   ],
   "source": [
    "#Checking whether data is sationary or not\n",
    "x=SalesData['NetAmount'].values\n",
    "result=adfuller(x)\n",
    "print(\"ADF\",result[0])\n",
    "print(\"pvalue\",result[1])\n",
    "print(\"critical values\",result[5])\n",
    "if result[1]<=0.05:\n",
    "    print(\"Data is stationary\")\n",
    "else:\n",
    "    print(\"Data is not stationary\")"
   ]
  },
  {
   "cell_type": "code",
   "execution_count": 38,
   "id": "d9de8b4c-ff63-4c9e-b3e6-6d6e604a1dce",
   "metadata": {
    "collapsed": true,
    "jupyter": {
     "outputs_hidden": true
    },
    "tags": []
   },
   "outputs": [
    {
     "data": {
      "text/html": [
       "<div>\n",
       "<style scoped>\n",
       "    .dataframe tbody tr th:only-of-type {\n",
       "        vertical-align: middle;\n",
       "    }\n",
       "\n",
       "    .dataframe tbody tr th {\n",
       "        vertical-align: top;\n",
       "    }\n",
       "\n",
       "    .dataframe thead th {\n",
       "        text-align: right;\n",
       "    }\n",
       "</style>\n",
       "<table border=\"1\" class=\"dataframe\">\n",
       "  <thead>\n",
       "    <tr style=\"text-align: right;\">\n",
       "      <th></th>\n",
       "      <th>ProductCode</th>\n",
       "      <th>Conv</th>\n",
       "      <th>UnitQty</th>\n",
       "      <th>BulkQty</th>\n",
       "      <th>FreeQty</th>\n",
       "      <th>FreeBulkQty</th>\n",
       "      <th>UnitPrice</th>\n",
       "      <th>GrossValue</th>\n",
       "      <th>LineDiscount</th>\n",
       "      <th>DocDiscPart</th>\n",
       "      <th>NetAmount</th>\n",
       "      <th>Year</th>\n",
       "      <th>Month</th>\n",
       "      <th>Day</th>\n",
       "    </tr>\n",
       "  </thead>\n",
       "  <tbody>\n",
       "    <tr>\n",
       "      <th>count</th>\n",
       "      <td>134068.000000</td>\n",
       "      <td>134068.0</td>\n",
       "      <td>134068.0</td>\n",
       "      <td>134068.000000</td>\n",
       "      <td>134068.0</td>\n",
       "      <td>134068.000000</td>\n",
       "      <td>134068.000000</td>\n",
       "      <td>1.340680e+05</td>\n",
       "      <td>134068.000000</td>\n",
       "      <td>134068.0</td>\n",
       "      <td>1.340680e+05</td>\n",
       "      <td>134068.0</td>\n",
       "      <td>134068.000000</td>\n",
       "      <td>134068.000000</td>\n",
       "    </tr>\n",
       "    <tr>\n",
       "      <th>mean</th>\n",
       "      <td>602955.506713</td>\n",
       "      <td>1.0</td>\n",
       "      <td>0.0</td>\n",
       "      <td>11.351426</td>\n",
       "      <td>0.0</td>\n",
       "      <td>0.285072</td>\n",
       "      <td>1016.221134</td>\n",
       "      <td>6.998551e+03</td>\n",
       "      <td>6.143363</td>\n",
       "      <td>0.0</td>\n",
       "      <td>6.992408e+03</td>\n",
       "      <td>2022.0</td>\n",
       "      <td>1.982979</td>\n",
       "      <td>16.932176</td>\n",
       "    </tr>\n",
       "    <tr>\n",
       "      <th>std</th>\n",
       "      <td>2600.477242</td>\n",
       "      <td>0.0</td>\n",
       "      <td>0.0</td>\n",
       "      <td>44.144284</td>\n",
       "      <td>0.0</td>\n",
       "      <td>1.780356</td>\n",
       "      <td>1047.030628</td>\n",
       "      <td>3.059508e+04</td>\n",
       "      <td>287.309206</td>\n",
       "      <td>0.0</td>\n",
       "      <td>3.055282e+04</td>\n",
       "      <td>0.0</td>\n",
       "      <td>0.815057</td>\n",
       "      <td>8.481221</td>\n",
       "    </tr>\n",
       "    <tr>\n",
       "      <th>min</th>\n",
       "      <td>600694.000000</td>\n",
       "      <td>1.0</td>\n",
       "      <td>0.0</td>\n",
       "      <td>0.000000</td>\n",
       "      <td>0.0</td>\n",
       "      <td>0.000000</td>\n",
       "      <td>0.000000</td>\n",
       "      <td>0.000000e+00</td>\n",
       "      <td>0.000000</td>\n",
       "      <td>0.0</td>\n",
       "      <td>0.000000e+00</td>\n",
       "      <td>2022.0</td>\n",
       "      <td>1.000000</td>\n",
       "      <td>1.000000</td>\n",
       "    </tr>\n",
       "    <tr>\n",
       "      <th>25%</th>\n",
       "      <td>600706.000000</td>\n",
       "      <td>1.0</td>\n",
       "      <td>0.0</td>\n",
       "      <td>1.000000</td>\n",
       "      <td>0.0</td>\n",
       "      <td>0.000000</td>\n",
       "      <td>313.050000</td>\n",
       "      <td>9.887100e+02</td>\n",
       "      <td>0.000000</td>\n",
       "      <td>0.0</td>\n",
       "      <td>9.887100e+02</td>\n",
       "      <td>2022.0</td>\n",
       "      <td>1.000000</td>\n",
       "      <td>10.000000</td>\n",
       "    </tr>\n",
       "    <tr>\n",
       "      <th>50%</th>\n",
       "      <td>602512.000000</td>\n",
       "      <td>1.0</td>\n",
       "      <td>0.0</td>\n",
       "      <td>3.000000</td>\n",
       "      <td>0.0</td>\n",
       "      <td>0.000000</td>\n",
       "      <td>703.050000</td>\n",
       "      <td>2.600000e+03</td>\n",
       "      <td>0.000000</td>\n",
       "      <td>0.0</td>\n",
       "      <td>2.600000e+03</td>\n",
       "      <td>2022.0</td>\n",
       "      <td>2.000000</td>\n",
       "      <td>18.000000</td>\n",
       "    </tr>\n",
       "    <tr>\n",
       "      <th>75%</th>\n",
       "      <td>604809.000000</td>\n",
       "      <td>1.0</td>\n",
       "      <td>0.0</td>\n",
       "      <td>10.000000</td>\n",
       "      <td>0.0</td>\n",
       "      <td>0.000000</td>\n",
       "      <td>1304.500000</td>\n",
       "      <td>5.947830e+03</td>\n",
       "      <td>0.000000</td>\n",
       "      <td>0.0</td>\n",
       "      <td>5.947830e+03</td>\n",
       "      <td>2022.0</td>\n",
       "      <td>3.000000</td>\n",
       "      <td>24.000000</td>\n",
       "    </tr>\n",
       "    <tr>\n",
       "      <th>max</th>\n",
       "      <td>608924.000000</td>\n",
       "      <td>1.0</td>\n",
       "      <td>0.0</td>\n",
       "      <td>2936.000000</td>\n",
       "      <td>0.0</td>\n",
       "      <td>150.000000</td>\n",
       "      <td>7670.930000</td>\n",
       "      <td>3.828104e+06</td>\n",
       "      <td>35888.460000</td>\n",
       "      <td>0.0</td>\n",
       "      <td>3.828104e+06</td>\n",
       "      <td>2022.0</td>\n",
       "      <td>3.000000</td>\n",
       "      <td>31.000000</td>\n",
       "    </tr>\n",
       "  </tbody>\n",
       "</table>\n",
       "</div>"
      ],
      "text/plain": [
       "         ProductCode      Conv   UnitQty        BulkQty   FreeQty  \\\n",
       "count  134068.000000  134068.0  134068.0  134068.000000  134068.0   \n",
       "mean   602955.506713       1.0       0.0      11.351426       0.0   \n",
       "std      2600.477242       0.0       0.0      44.144284       0.0   \n",
       "min    600694.000000       1.0       0.0       0.000000       0.0   \n",
       "25%    600706.000000       1.0       0.0       1.000000       0.0   \n",
       "50%    602512.000000       1.0       0.0       3.000000       0.0   \n",
       "75%    604809.000000       1.0       0.0      10.000000       0.0   \n",
       "max    608924.000000       1.0       0.0    2936.000000       0.0   \n",
       "\n",
       "         FreeBulkQty      UnitPrice    GrossValue   LineDiscount  DocDiscPart  \\\n",
       "count  134068.000000  134068.000000  1.340680e+05  134068.000000     134068.0   \n",
       "mean        0.285072    1016.221134  6.998551e+03       6.143363          0.0   \n",
       "std         1.780356    1047.030628  3.059508e+04     287.309206          0.0   \n",
       "min         0.000000       0.000000  0.000000e+00       0.000000          0.0   \n",
       "25%         0.000000     313.050000  9.887100e+02       0.000000          0.0   \n",
       "50%         0.000000     703.050000  2.600000e+03       0.000000          0.0   \n",
       "75%         0.000000    1304.500000  5.947830e+03       0.000000          0.0   \n",
       "max       150.000000    7670.930000  3.828104e+06   35888.460000          0.0   \n",
       "\n",
       "          NetAmount      Year          Month            Day  \n",
       "count  1.340680e+05  134068.0  134068.000000  134068.000000  \n",
       "mean   6.992408e+03    2022.0       1.982979      16.932176  \n",
       "std    3.055282e+04       0.0       0.815057       8.481221  \n",
       "min    0.000000e+00    2022.0       1.000000       1.000000  \n",
       "25%    9.887100e+02    2022.0       1.000000      10.000000  \n",
       "50%    2.600000e+03    2022.0       2.000000      18.000000  \n",
       "75%    5.947830e+03    2022.0       3.000000      24.000000  \n",
       "max    3.828104e+06    2022.0       3.000000      31.000000  "
      ]
     },
     "execution_count": 38,
     "metadata": {},
     "output_type": "execute_result"
    }
   ],
   "source": [
    "SalesData.describe()"
   ]
  },
  {
   "cell_type": "code",
   "execution_count": 39,
   "id": "d39e8b48-8ace-438a-97b7-a9460ec49de9",
   "metadata": {
    "tags": []
   },
   "outputs": [
    {
     "data": {
      "image/png": "[encoded data removed]",
      "text/plain": [
       "<Figure size 432x288 with 4 Axes>"
      ]
     },
     "metadata": {
      "needs_background": "light"
     },
     "output_type": "display_data"
    },
    {
     "data": {
      "image/png": "[encoded data removed]",
      "text/plain": [
       "<Figure size 432x288 with 4 Axes>"
      ]
     },
     "metadata": {
      "needs_background": "light"
     },
     "output_type": "display_data"
    }
   ],
   "source": [
    "#Seasonal decomposition of data \n",
    "temp = SalesData.copy()\n",
    "temp['Month']=pd.DatetimeIndex(temp.index).month\n",
    "temp['Day']= pd.DatetimeIndex(temp.index).day\n",
    "Monthdecomposition = sm.tsa.seasonal_decompose(temp['Month'], model='additive',period=4) \n",
    "Daydecomposition = sm.tsa.seasonal_decompose(temp['Day'], model='additive',period=365)\n",
    "fig = Monthdecomposition.plot()\n",
    "fig1 = Daydecomposition.plot()"
   ]
  },
  {
   "cell_type": "code",
   "execution_count": 40,
   "id": "254e00b4-9acf-4ac2-874a-785e2225bc01",
   "metadata": {},
   "outputs": [],
   "source": [
    "#Spliting data to train and test\n",
    "traindata=SalesData['NetAmount'][:int(len(SalesData)*0.8)]\n",
    "testdata=SalesData['NetAmount'][int(len(SalesData)*0.2)]"
   ]
  },
  {
   "cell_type": "code",
   "execution_count": 41,
   "id": "e77a8dce-eb2b-4c79-8f1e-8831ed59f4da",
   "metadata": {
    "collapsed": true,
    "jupyter": {
     "outputs_hidden": true
    },
    "tags": []
   },
   "outputs": [
    {
     "data": {
      "image/png": "[encoded data removed]",
      "text/plain": [
       "<Figure size 1080x720 with 3 Axes>"
      ]
     },
     "metadata": {
      "needs_background": "light"
     },
     "output_type": "display_data"
    }
   ],
   "source": [
    "#Comparing the difference\n",
    "# Original Series\n",
    "fig, (ax1, ax2, ax3) = plt.subplots(3, figsize=(15, 10))\n",
    "ax1.plot(traindata)\n",
    "ax1.set_title('Original Series')\n",
    "ax1.axes.xaxis.set_visible(True)\n",
    "# 1st Differencing\n",
    "ax2.plot(traindata.diff())\n",
    "ax2.set_title('1st Order Differencing')\n",
    "ax2.axes.xaxis.set_visible(True)\n",
    "# 2nd Differencing\n",
    "ax3.plot(traindata.diff().diff())\n",
    "ax3.set_title('2nd Order Differencing')\n",
    "ax3.axes.xaxis.set_visible(True)\n",
    "plt.show()"
   ]
  },
  {
   "cell_type": "code",
   "execution_count": 42,
   "id": "d7418988-bbb4-4bb4-92d0-51d6a243884b",
   "metadata": {
    "collapsed": true,
    "jupyter": {
     "outputs_hidden": true
    },
    "tags": []
   },
   "outputs": [
    {
     "data": {
      "text/plain": [
       "Text(0.5, 1.0, 'Autocorrelation for second-order differencing')"
      ]
     },
     "execution_count": 42,
     "metadata": {},
     "output_type": "execute_result"
    },
    {
     "data": {
      "image/png": "[encoded data removed]",
      "text/plain": [
       "<Figure size 720x864 with 3 Axes>"
      ]
     },
     "metadata": {
      "needs_background": "light"
     },
     "output_type": "display_data"
    }
   ],
   "source": [
    "#Autocorrelation\n",
    "fig, (ax1, ax2, ax3) = plt.subplots(3, 1, figsize=(10, 12))\n",
    "autocorr= plot_acf(traindata, ax=ax1)\n",
    "autocorr2 = plot_acf(traindata.diff().dropna(), ax=ax2)\n",
    "ax2.set_title('Autocorrelation for first-order differencing')\n",
    "autocorr3= plot_acf(traindata.diff().diff().dropna(), ax=ax3)\n",
    "ax3.set_title('Autocorrelation for second-order differencing')"
   ]
  },
  {
   "cell_type": "code",
   "execution_count": 43,
   "id": "c75b3f4c-df26-4cc5-82fd-c38c3d677137",
   "metadata": {
    "tags": []
   },
   "outputs": [
    {
     "name": "stderr",
     "output_type": "stream",
     "text": [
      "C:\\Users\\HP\\anaconda3\\lib\\site-packages\\statsmodels\\graphics\\tsaplots.py:348: FutureWarning: The default method 'yw' can produce PACF values outside of the [-1,1] interval. After 0.13, the default will change tounadjusted Yule-Walker ('ywm'). You can use this method now by setting method='ywm'.\n",
      "  warnings.warn(\n",
      "C:\\Users\\HP\\anaconda3\\lib\\site-packages\\statsmodels\\graphics\\tsaplots.py:348: FutureWarning: The default method 'yw' can produce PACF values outside of the [-1,1] interval. After 0.13, the default will change tounadjusted Yule-Walker ('ywm'). You can use this method now by setting method='ywm'.\n",
      "  warnings.warn(\n",
      "C:\\Users\\HP\\anaconda3\\lib\\site-packages\\statsmodels\\graphics\\tsaplots.py:348: FutureWarning: The default method 'yw' can produce PACF values outside of the [-1,1] interval. After 0.13, the default will change tounadjusted Yule-Walker ('ywm'). You can use this method now by setting method='ywm'.\n",
      "  warnings.warn(\n"
     ]
    },
    {
     "data": {
      "text/plain": [
       "Text(0.5, 1.0, 'Partial Autocorrelation for second-order differencing')"
      ]
     },
     "execution_count": 43,
     "metadata": {},
     "output_type": "execute_result"
    },
    {
     "data": {
      "image/png": "[encoded data removed]",
      "text/plain": [
       "<Figure size 720x864 with 3 Axes>"
      ]
     },
     "metadata": {
      "needs_background": "light"
     },
     "output_type": "display_data"
    }
   ],
   "source": [
    "#Partial Autocorrelation\n",
    "fig, (ax1, ax2, ax3) = plt.subplots(3, 1, figsize=(10, 12))\n",
    "parautocorr= plot_pacf(traindata, ax=ax1)\n",
    "parautocorr2 = plot_pacf(traindata.diff().dropna(), ax=ax2)\n",
    "ax2.set_title('Partial Autocorrelation for first-order differencing')\n",
    "parautocorr3= plot_pacf(traindata.diff().diff().dropna(), ax=ax3)\n",
    "ax3.set_title('Partial Autocorrelation for second-order differencing')"
   ]
  },
  {
   "cell_type": "code",
   "execution_count": 85,
   "id": "69a6e77f-9ebb-4fb0-a748-551cbe2996ef",
   "metadata": {
    "collapsed": true,
    "jupyter": {
     "outputs_hidden": true
    },
    "tags": []
   },
   "outputs": [
    {
     "name": "stderr",
     "output_type": "stream",
     "text": [
      "C:\\Users\\HP\\anaconda3\\lib\\site-packages\\statsmodels\\tsa\\base\\tsa_model.py:471: ValueWarning: A date index has been provided, but it has no associated frequency information and so will be ignored when e.g. forecasting.\n",
      "  self._init_dates(dates, freq)\n",
      "C:\\Users\\HP\\anaconda3\\lib\\site-packages\\statsmodels\\tsa\\base\\tsa_model.py:471: ValueWarning: A date index has been provided, but it is not monotonic and so will be ignored when e.g. forecasting.\n",
      "  self._init_dates(dates, freq)\n",
      "C:\\Users\\HP\\anaconda3\\lib\\site-packages\\statsmodels\\tsa\\base\\tsa_model.py:471: ValueWarning: A date index has been provided, but it has no associated frequency information and so will be ignored when e.g. forecasting.\n",
      "  self._init_dates(dates, freq)\n",
      "C:\\Users\\HP\\anaconda3\\lib\\site-packages\\statsmodels\\tsa\\base\\tsa_model.py:471: ValueWarning: A date index has been provided, but it is not monotonic and so will be ignored when e.g. forecasting.\n",
      "  self._init_dates(dates, freq)\n",
      "C:\\Users\\HP\\anaconda3\\lib\\site-packages\\statsmodels\\tsa\\base\\tsa_model.py:471: ValueWarning: A date index has been provided, but it has no associated frequency information and so will be ignored when e.g. forecasting.\n",
      "  self._init_dates(dates, freq)\n",
      "C:\\Users\\HP\\anaconda3\\lib\\site-packages\\statsmodels\\tsa\\base\\tsa_model.py:471: ValueWarning: A date index has been provided, but it is not monotonic and so will be ignored when e.g. forecasting.\n",
      "  self._init_dates(dates, freq)\n"
     ]
    }
   ],
   "source": [
    "#Spliting data to train and test for ARIMA analysis\n",
    "from statsmodels.tsa.arima.model import ARIMA\n",
    "Traindata=SalesData['NetAmount'][:int(len(SalesData)*0.8)]\n",
    "Testdata=SalesData['NetAmount'][:int(len(SalesData)*0.2)]\n",
    "#Training the model\n",
    "model = ARIMA(Traindata, order=(1,1,2))\n",
    "model_fit = model.fit()"
   ]
  },
  {
   "cell_type": "code",
   "execution_count": 86,
   "id": "279a6f55-525d-4b23-8287-8b63e673648c",
   "metadata": {
    "collapsed": true,
    "jupyter": {
     "outputs_hidden": true
    },
    "tags": []
   },
   "outputs": [
    {
     "name": "stderr",
     "output_type": "stream",
     "text": [
      "C:\\Users\\HP\\anaconda3\\lib\\site-packages\\statsmodels\\tsa\\base\\tsa_model.py:834: ValueWarning: No supported index is available. Prediction results will be given with an integer index beginning at `start`.\n",
      "  return get_prediction_index(\n"
     ]
    },
    {
     "data": {
      "image/png": "[encoded data removed]",
      "text/plain": [
       "<Figure size 720x360 with 1 Axes>"
      ]
     },
     "metadata": {
      "needs_background": "light"
     },
     "output_type": "display_data"
    }
   ],
   "source": [
    "#Visualization\n",
    "fig,axs = plt.subplots(1, 1, figsize=(10,5))\n",
    "Results=plot_predict(model_fit, start=len(Testdata), end=(len(SalesData)-1), ax=axs)\n",
    "plt.title(\"Sales Forecast\")\n",
    "plt.xlabel(\"Forecast Period\")\n",
    "plt.ylabel(\"Sales Net Worth\")\n",
    "plt.show()"
   ]
  },
  {
   "cell_type": "code",
   "execution_count": 87,
   "id": "8511d2cb-4fc8-42c0-a53c-5f10088d2ea4",
   "metadata": {},
   "outputs": [],
   "source": [
    "#Defining SARIMA Model\n",
    "from statsmodels.tsa.statespace.sarimax import SARIMAX\n",
    "def optimize_SARIMA(parameters_list, d, D, s, exog): \n",
    "    results = []    \n",
    "    for param in tqdm_notebook(parameters_list):\n",
    "        try: \n",
    "            model = SARIMAX(exog, order=(param[0], d, param[1]), seasonal_order=(param[2], D, param[3], s)).fit(maxiter=5, disp=5)\n",
    "        except:\n",
    "            continue        \n",
    "        aic = model.aic\n",
    "        results.append([param, aic])   \n",
    "    sarimaresults = pd.DataFrame(results)\n",
    "    sarimaresults.columns = ['(p,q)x(P,Q)', 'AIC']\n",
    "    return sarimaresults"
   ]
  },
  {
   "cell_type": "code",
   "execution_count": 88,
   "id": "59922227-1411-4135-ade1-2ab49c5ca656",
   "metadata": {
    "tags": []
   },
   "outputs": [
    {
     "name": "stdout",
     "output_type": "stream",
     "text": [
      "81\n"
     ]
    }
   ],
   "source": [
    "#Running SARIMA model with defined parameters\n",
    "from itertools import product\n",
    "p = range(0, 3, 1)\n",
    "d = 1\n",
    "q = range(0, 3, 1)\n",
    "P = range(0, 3, 1)\n",
    "D = 1\n",
    "Q = range(0, 3, 1)\n",
    "s = 3\n",
    "parameters = product(p, q, P, Q)\n",
    "parameters_list = list(parameters)\n",
    "print(len(parameters_list))"
   ]
  },
  {
   "cell_type": "code",
   "execution_count": 89,
   "id": "0cc6019b-c01f-4d6b-8d74-b9a00da1f6d7",
   "metadata": {
    "collapsed": true,
    "jupyter": {
     "outputs_hidden": true
    },
    "tags": []
   },
   "outputs": [
    {
     "data": {
      "application/vnd.jupyter.widget-view+json": {
       "model_id": "031109c1b95c4a20853419843c7b1d19",
       "version_major": 2,
       "version_minor": 0
      },
      "text/plain": [
       "  0%|          | 0/81 [00:00<?, ?it/s]"
      ]
     },
     "metadata": {},
     "output_type": "display_data"
    },
    {
     "ename": "MemoryError",
     "evalue": "Unable to allocate 124. MiB for an array with shape (11, 11, 134068) and data type float64",
     "output_type": "error",
     "traceback": [
      "\u001b[1;31m---------------------------------------------------------------------------\u001b[0m",
      "\u001b[1;31mMemoryError\u001b[0m                               Traceback (most recent call last)",
      "\u001b[1;32mstatsmodels\\tsa\\statespace\\_kalman_smoother.pyx\u001b[0m in \u001b[0;36mstatsmodels.tsa.statespace._kalman_smoother.dKalmanSmoother.allocate_arrays\u001b[1;34m()\u001b[0m\n",
      "\u001b[1;31mMemoryError\u001b[0m: Unable to allocate 124. MiB for an array with shape (11, 11, 134068) and data type float64"
     ]
    },
    {
     "name": "stderr",
     "output_type": "stream",
     "text": [
      "Exception ignored in: 'statsmodels.tsa.statespace._kalman_smoother.dKalmanSmoother.reset_filter_method'\n",
      "Traceback (most recent call last):\n",
      "  File \"statsmodels\\tsa\\statespace\\_kalman_smoother.pyx\", line 1004, in statsmodels.tsa.statespace._kalman_smoother.dKalmanSmoother.allocate_arrays\n",
      "numpy.core._exceptions.MemoryError: Unable to allocate 124. MiB for an array with shape (11, 11, 134068) and data type float64\n"
     ]
    }
   ],
   "source": [
    "#SARIMA Model Taining\n",
    "from tqdm import tqdm_notebook\n",
    "import warnings\n",
    "warnings.filterwarnings('ignore')\n",
    "sarimaresults= optimize_SARIMA(parameters_list, 1,1,3, SalesData['NetAmount'])"
   ]
  },
  {
   "cell_type": "code",
   "execution_count": 92,
   "id": "c6f5efcc-36f9-4562-ba74-714d65735f8e",
   "metadata": {},
   "outputs": [
    {
     "data": {
      "text/plain": [
       "Text(0, 0.5, 'Net Worth of Sales')"
      ]
     },
     "execution_count": 92,
     "metadata": {},
     "output_type": "execute_result"
    },
    {
     "data": {
      "image/png": "[encoded data removed]",
      "text/plain": [
       "<Figure size 720x720 with 1 Axes>"
      ]
     },
     "metadata": {
      "needs_background": "light"
     },
     "output_type": "display_data"
    }
   ],
   "source": [
    "sarimaresults.plot(figsize=(10,10))\n",
    "plt.title(\"Sales Forecast\")\n",
    "plt.xlabel(\"Forecast Period\")\n",
    "plt.ylabel(\"Net Worth of Sales\")"
   ]
  },
  {
   "cell_type": "code",
   "execution_count": 93,
   "id": "038c62d8-319f-46c2-8762-bf744192dda6",
   "metadata": {},
   "outputs": [],
   "source": [
    "#Train and Test Split for Regresion Model\n",
    "train = SalesData['NetAmount'][:-int(len(SalesData['NetAmount'])/10)]\n",
    "test = SalesData['NetAmount'][:-int(len(SalesData['NetAmount'])/10)]\n",
    "x_train,x_test,y_train,y_test=train_test_split(train,test,test_size=0.2,train_size=0.8,random_state=1)"
   ]
  },
  {
   "cell_type": "code",
   "execution_count": 94,
   "id": "32a23c6b-f2c2-499f-9a31-4986beffd5fd",
   "metadata": {},
   "outputs": [
    {
     "name": "stdout",
     "output_type": "stream",
     "text": [
      "                            GLS Regression Results                            \n",
      "==============================================================================\n",
      "Dep. Variable:              NetAmount   R-squared:                       1.000\n",
      "Model:                            GLS   Adj. R-squared:                  1.000\n",
      "Method:                 Least Squares   F-statistic:                 1.901e+34\n",
      "Date:                Thu, 22 Dec 2022   Prob (F-statistic):               0.00\n",
      "Time:                        20:44:48   Log-Likelihood:             2.1226e+06\n",
      "No. Observations:               96529   AIC:                        -4.245e+06\n",
      "Df Residuals:                   96527   BIC:                        -4.245e+06\n",
      "Df Model:                           1                                         \n",
      "Covariance Type:            nonrobust                                         \n",
      "==============================================================================\n",
      "                 coef    std err          t      P>|t|      [0.025      0.975]\n",
      "------------------------------------------------------------------------------\n",
      "const       3.354e-12   2.25e-13     14.902      0.000    2.91e-12    3.79e-12\n",
      "NetAmount      1.0000   7.25e-18   1.38e+17      0.000       1.000       1.000\n",
      "==============================================================================\n",
      "Omnibus:                   299255.360   Durbin-Watson:                   1.934\n",
      "Prob(Omnibus):                  0.000   Jarque-Bera (JB):      65170825886.418\n",
      "Skew:                          47.825   Prob(JB):                         0.00\n",
      "Kurtosis:                    4027.210   Cond. No.                     3.18e+04\n",
      "==============================================================================\n",
      "\n",
      "Notes:\n",
      "[1] Standard Errors assume that the covariance matrix of the errors is correctly specified.\n",
      "[2] The condition number is large, 3.18e+04. This might indicate that there are\n",
      "strong multicollinearity or other numerical problems.\n"
     ]
    }
   ],
   "source": [
    "#Fitting data in the model \n",
    "x_train = sm.add_constant(x_train)\n",
    "model = sm.GLS(y_train, x_train)\n",
    "result = model.fit()\n",
    "\n",
    "print(result.summary())"
   ]
  },
  {
   "cell_type": "code",
   "execution_count": null,
   "id": "a5a46a4a-3411-47ef-9643-0249222fe7a1",
   "metadata": {},
   "outputs": [],
   "source": []
  }
 ],
 "metadata": {
  "kernelspec": {
   "display_name": "Python 3 (ipykernel)",
   "language": "python",
   "name": "python3"
  },
  "language_info": {
   "codemirror_mode": {
    "name": "ipython",
    "version": 3
   },
   "file_extension": ".py",
   "mimetype": "text/x-python",
   "name": "python",
   "nbconvert_exporter": "python",
   "pygments_lexer": "ipython3",
   "version": "3.9.7"
  }
 },
 "nbformat": 4,
 "nbformat_minor": 5
}
